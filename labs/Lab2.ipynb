{
 "cells": [
  {
   "cell_type": "markdown",
   "metadata": {
    "id": "7FEkSsqqPhe2"
   },
   "source": [
    "### **Lab 2: Introduction to Complex Exponentials**\n",
    "\n",
    "The goal of this laboratory is to gain familiarity with complex numbers and their use in representing sinusoidal signals as complex exponentials.\n",
    "\n",
    "**Complex Numbers in Python**\n",
    "\n",
    "\n",
    "Python can be used to compute complex-valued formulas and also to display the results as a vector or “phasor” diagrams.\n",
    "\n",
    "Here are some of numpy package complex number functions (remember to import package):\n",
    "\n",
    "*conj ()*       Complex conjugate\n",
    "\n",
    "*abs ()*        Magnitude\n",
    "\n",
    "*angle ()*      Angle (or phase) in radians\n",
    "\n",
    "*real ()*       Real part\n",
    "\n",
    "*imag ()*       Imaginary part\n",
    "*j *        pre-defined as <math>&radic;-1</math>\n",
    "\n",
    "*x = 3 + 4j*    j sufix defines imaginary constant\n",
    "\n",
    "exp(1j<math>*</math>theta)  Function for the complex exponential\n",
    "\n",
    "Each of these functions takes a vector (or matrix) as its input argument and operates on each element of the vector.\n",
    "\n",
    "To display a complex number as a point in the complex plane you can directly use the provided function `plot_complex`. It can take a single number or a list of complex numbers as input. For instance, to display the complex number 2+1j:"
   ]
  },
  {
   "cell_type": "code",
   "execution_count": 13,
   "metadata": {
    "colab": {
     "base_uri": "https://localhost:8080/"
    },
    "executionInfo": {
     "elapsed": 3415,
     "status": "ok",
     "timestamp": 1702317970077,
     "user": {
      "displayName": "PEDRO RAMONEDA FRANCO",
      "userId": "10653804143244385715"
     },
     "user_tz": -60
    },
    "id": "uvmioytcPgyZ",
    "outputId": "1fce312e-20b9-4609-df57-1a92ba465e41"
   },
   "outputs": [],
   "source": [
    "import numpy as np\n",
    "from IPython.display import Audio\n",
    "\n",
    "from util import load_audio, save_audio, plot_signals, plot_complex"
   ]
  },
  {
   "cell_type": "code",
   "execution_count": 2,
   "metadata": {
    "colab": {
     "base_uri": "https://localhost:8080/",
     "height": 542
    },
    "executionInfo": {
     "elapsed": 17,
     "status": "ok",
     "timestamp": 1702317970078,
     "user": {
      "displayName": "PEDRO RAMONEDA FRANCO",
      "userId": "10653804143244385715"
     },
     "user_tz": -60
    },
    "id": "t_Yo8e9yPvT6",
    "outputId": "2c45e158-029d-4451-b750-96607dd5e655"
   },
   "outputs": [
    {
     "data": {
      "application/vnd.plotly.v1+json": {
       "config": {
        "plotlyServerURL": "https://plot.ly"
       },
       "data": [
        {
         "line": {
          "color": "rgb(150,150,150)",
          "dash": "dash",
          "shape": "linear"
         },
         "mode": "lines",
         "name": "unit circle",
         "type": "scatter",
         "x": {
          "bdata": "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",
          "dtype": "f8"
         },
         "y": {
          "bdata": "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",
          "dtype": "f8"
         }
        },
        {
         "marker": {
          "color": "#1f77b4"
         },
         "mode": "markers",
         "name": "z_0",
         "type": "scatter",
         "x": [
          2
         ],
         "y": [
          1
         ]
        }
       ],
       "layout": {
        "annotations": [
         {
          "arrowcolor": "#1f77b4",
          "arrowhead": 3,
          "arrowwidth": 1.5,
          "ax": 0,
          "axref": "x",
          "ay": 0,
          "ayref": "y",
          "showarrow": true,
          "text": "",
          "x": 2,
          "y": 1
         }
        ],
        "template": {
         "data": {
          "bar": [
           {
            "error_x": {
             "color": "#2a3f5f"
            },
            "error_y": {
             "color": "#2a3f5f"
            },
            "marker": {
             "line": {
              "color": "#E5ECF6",
              "width": 0.5
             },
             "pattern": {
              "fillmode": "overlay",
              "size": 10,
              "solidity": 0.2
             }
            },
            "type": "bar"
           }
          ],
          "barpolar": [
           {
            "marker": {
             "line": {
              "color": "#E5ECF6",
              "width": 0.5
             },
             "pattern": {
              "fillmode": "overlay",
              "size": 10,
              "solidity": 0.2
             }
            },
            "type": "barpolar"
           }
          ],
          "carpet": [
           {
            "aaxis": {
             "endlinecolor": "#2a3f5f",
             "gridcolor": "white",
             "linecolor": "white",
             "minorgridcolor": "white",
             "startlinecolor": "#2a3f5f"
            },
            "baxis": {
             "endlinecolor": "#2a3f5f",
             "gridcolor": "white",
             "linecolor": "white",
             "minorgridcolor": "white",
             "startlinecolor": "#2a3f5f"
            },
            "type": "carpet"
           }
          ],
          "choropleth": [
           {
            "colorbar": {
             "outlinewidth": 0,
             "ticks": ""
            },
            "type": "choropleth"
           }
          ],
          "contour": [
           {
            "colorbar": {
             "outlinewidth": 0,
             "ticks": ""
            },
            "colorscale": [
             [
              0,
              "#0d0887"
             ],
             [
              0.1111111111111111,
              "#46039f"
             ],
             [
              0.2222222222222222,
              "#7201a8"
             ],
             [
              0.3333333333333333,
              "#9c179e"
             ],
             [
              0.4444444444444444,
              "#bd3786"
             ],
             [
              0.5555555555555556,
              "#d8576b"
             ],
             [
              0.6666666666666666,
              "#ed7953"
             ],
             [
              0.7777777777777778,
              "#fb9f3a"
             ],
             [
              0.8888888888888888,
              "#fdca26"
             ],
             [
              1,
              "#f0f921"
             ]
            ],
            "type": "contour"
           }
          ],
          "contourcarpet": [
           {
            "colorbar": {
             "outlinewidth": 0,
             "ticks": ""
            },
            "type": "contourcarpet"
           }
          ],
          "heatmap": [
           {
            "colorbar": {
             "outlinewidth": 0,
             "ticks": ""
            },
            "colorscale": [
             [
              0,
              "#0d0887"
             ],
             [
              0.1111111111111111,
              "#46039f"
             ],
             [
              0.2222222222222222,
              "#7201a8"
             ],
             [
              0.3333333333333333,
              "#9c179e"
             ],
             [
              0.4444444444444444,
              "#bd3786"
             ],
             [
              0.5555555555555556,
              "#d8576b"
             ],
             [
              0.6666666666666666,
              "#ed7953"
             ],
             [
              0.7777777777777778,
              "#fb9f3a"
             ],
             [
              0.8888888888888888,
              "#fdca26"
             ],
             [
              1,
              "#f0f921"
             ]
            ],
            "type": "heatmap"
           }
          ],
          "histogram": [
           {
            "marker": {
             "pattern": {
              "fillmode": "overlay",
              "size": 10,
              "solidity": 0.2
             }
            },
            "type": "histogram"
           }
          ],
          "histogram2d": [
           {
            "colorbar": {
             "outlinewidth": 0,
             "ticks": ""
            },
            "colorscale": [
             [
              0,
              "#0d0887"
             ],
             [
              0.1111111111111111,
              "#46039f"
             ],
             [
              0.2222222222222222,
              "#7201a8"
             ],
             [
              0.3333333333333333,
              "#9c179e"
             ],
             [
              0.4444444444444444,
              "#bd3786"
             ],
             [
              0.5555555555555556,
              "#d8576b"
             ],
             [
              0.6666666666666666,
              "#ed7953"
             ],
             [
              0.7777777777777778,
              "#fb9f3a"
             ],
             [
              0.8888888888888888,
              "#fdca26"
             ],
             [
              1,
              "#f0f921"
             ]
            ],
            "type": "histogram2d"
           }
          ],
          "histogram2dcontour": [
           {
            "colorbar": {
             "outlinewidth": 0,
             "ticks": ""
            },
            "colorscale": [
             [
              0,
              "#0d0887"
             ],
             [
              0.1111111111111111,
              "#46039f"
             ],
             [
              0.2222222222222222,
              "#7201a8"
             ],
             [
              0.3333333333333333,
              "#9c179e"
             ],
             [
              0.4444444444444444,
              "#bd3786"
             ],
             [
              0.5555555555555556,
              "#d8576b"
             ],
             [
              0.6666666666666666,
              "#ed7953"
             ],
             [
              0.7777777777777778,
              "#fb9f3a"
             ],
             [
              0.8888888888888888,
              "#fdca26"
             ],
             [
              1,
              "#f0f921"
             ]
            ],
            "type": "histogram2dcontour"
           }
          ],
          "mesh3d": [
           {
            "colorbar": {
             "outlinewidth": 0,
             "ticks": ""
            },
            "type": "mesh3d"
           }
          ],
          "parcoords": [
           {
            "line": {
             "colorbar": {
              "outlinewidth": 0,
              "ticks": ""
             }
            },
            "type": "parcoords"
           }
          ],
          "pie": [
           {
            "automargin": true,
            "type": "pie"
           }
          ],
          "scatter": [
           {
            "fillpattern": {
             "fillmode": "overlay",
             "size": 10,
             "solidity": 0.2
            },
            "type": "scatter"
           }
          ],
          "scatter3d": [
           {
            "line": {
             "colorbar": {
              "outlinewidth": 0,
              "ticks": ""
             }
            },
            "marker": {
             "colorbar": {
              "outlinewidth": 0,
              "ticks": ""
             }
            },
            "type": "scatter3d"
           }
          ],
          "scattercarpet": [
           {
            "marker": {
             "colorbar": {
              "outlinewidth": 0,
              "ticks": ""
             }
            },
            "type": "scattercarpet"
           }
          ],
          "scattergeo": [
           {
            "marker": {
             "colorbar": {
              "outlinewidth": 0,
              "ticks": ""
             }
            },
            "type": "scattergeo"
           }
          ],
          "scattergl": [
           {
            "marker": {
             "colorbar": {
              "outlinewidth": 0,
              "ticks": ""
             }
            },
            "type": "scattergl"
           }
          ],
          "scattermap": [
           {
            "marker": {
             "colorbar": {
              "outlinewidth": 0,
              "ticks": ""
             }
            },
            "type": "scattermap"
           }
          ],
          "scattermapbox": [
           {
            "marker": {
             "colorbar": {
              "outlinewidth": 0,
              "ticks": ""
             }
            },
            "type": "scattermapbox"
           }
          ],
          "scatterpolar": [
           {
            "marker": {
             "colorbar": {
              "outlinewidth": 0,
              "ticks": ""
             }
            },
            "type": "scatterpolar"
           }
          ],
          "scatterpolargl": [
           {
            "marker": {
             "colorbar": {
              "outlinewidth": 0,
              "ticks": ""
             }
            },
            "type": "scatterpolargl"
           }
          ],
          "scatterternary": [
           {
            "marker": {
             "colorbar": {
              "outlinewidth": 0,
              "ticks": ""
             }
            },
            "type": "scatterternary"
           }
          ],
          "surface": [
           {
            "colorbar": {
             "outlinewidth": 0,
             "ticks": ""
            },
            "colorscale": [
             [
              0,
              "#0d0887"
             ],
             [
              0.1111111111111111,
              "#46039f"
             ],
             [
              0.2222222222222222,
              "#7201a8"
             ],
             [
              0.3333333333333333,
              "#9c179e"
             ],
             [
              0.4444444444444444,
              "#bd3786"
             ],
             [
              0.5555555555555556,
              "#d8576b"
             ],
             [
              0.6666666666666666,
              "#ed7953"
             ],
             [
              0.7777777777777778,
              "#fb9f3a"
             ],
             [
              0.8888888888888888,
              "#fdca26"
             ],
             [
              1,
              "#f0f921"
             ]
            ],
            "type": "surface"
           }
          ],
          "table": [
           {
            "cells": {
             "fill": {
              "color": "#EBF0F8"
             },
             "line": {
              "color": "white"
             }
            },
            "header": {
             "fill": {
              "color": "#C8D4E3"
             },
             "line": {
              "color": "white"
             }
            },
            "type": "table"
           }
          ]
         },
         "layout": {
          "annotationdefaults": {
           "arrowcolor": "#2a3f5f",
           "arrowhead": 0,
           "arrowwidth": 1
          },
          "autotypenumbers": "strict",
          "coloraxis": {
           "colorbar": {
            "outlinewidth": 0,
            "ticks": ""
           }
          },
          "colorscale": {
           "diverging": [
            [
             0,
             "#8e0152"
            ],
            [
             0.1,
             "#c51b7d"
            ],
            [
             0.2,
             "#de77ae"
            ],
            [
             0.3,
             "#f1b6da"
            ],
            [
             0.4,
             "#fde0ef"
            ],
            [
             0.5,
             "#f7f7f7"
            ],
            [
             0.6,
             "#e6f5d0"
            ],
            [
             0.7,
             "#b8e186"
            ],
            [
             0.8,
             "#7fbc41"
            ],
            [
             0.9,
             "#4d9221"
            ],
            [
             1,
             "#276419"
            ]
           ],
           "sequential": [
            [
             0,
             "#0d0887"
            ],
            [
             0.1111111111111111,
             "#46039f"
            ],
            [
             0.2222222222222222,
             "#7201a8"
            ],
            [
             0.3333333333333333,
             "#9c179e"
            ],
            [
             0.4444444444444444,
             "#bd3786"
            ],
            [
             0.5555555555555556,
             "#d8576b"
            ],
            [
             0.6666666666666666,
             "#ed7953"
            ],
            [
             0.7777777777777778,
             "#fb9f3a"
            ],
            [
             0.8888888888888888,
             "#fdca26"
            ],
            [
             1,
             "#f0f921"
            ]
           ],
           "sequentialminus": [
            [
             0,
             "#0d0887"
            ],
            [
             0.1111111111111111,
             "#46039f"
            ],
            [
             0.2222222222222222,
             "#7201a8"
            ],
            [
             0.3333333333333333,
             "#9c179e"
            ],
            [
             0.4444444444444444,
             "#bd3786"
            ],
            [
             0.5555555555555556,
             "#d8576b"
            ],
            [
             0.6666666666666666,
             "#ed7953"
            ],
            [
             0.7777777777777778,
             "#fb9f3a"
            ],
            [
             0.8888888888888888,
             "#fdca26"
            ],
            [
             1,
             "#f0f921"
            ]
           ]
          },
          "colorway": [
           "#636efa",
           "#EF553B",
           "#00cc96",
           "#ab63fa",
           "#FFA15A",
           "#19d3f3",
           "#FF6692",
           "#B6E880",
           "#FF97FF",
           "#FECB52"
          ],
          "font": {
           "color": "#2a3f5f"
          },
          "geo": {
           "bgcolor": "white",
           "lakecolor": "white",
           "landcolor": "#E5ECF6",
           "showlakes": true,
           "showland": true,
           "subunitcolor": "white"
          },
          "hoverlabel": {
           "align": "left"
          },
          "hovermode": "closest",
          "mapbox": {
           "style": "light"
          },
          "paper_bgcolor": "white",
          "plot_bgcolor": "#E5ECF6",
          "polar": {
           "angularaxis": {
            "gridcolor": "white",
            "linecolor": "white",
            "ticks": ""
           },
           "bgcolor": "#E5ECF6",
           "radialaxis": {
            "gridcolor": "white",
            "linecolor": "white",
            "ticks": ""
           }
          },
          "scene": {
           "xaxis": {
            "backgroundcolor": "#E5ECF6",
            "gridcolor": "white",
            "gridwidth": 2,
            "linecolor": "white",
            "showbackground": true,
            "ticks": "",
            "zerolinecolor": "white"
           },
           "yaxis": {
            "backgroundcolor": "#E5ECF6",
            "gridcolor": "white",
            "gridwidth": 2,
            "linecolor": "white",
            "showbackground": true,
            "ticks": "",
            "zerolinecolor": "white"
           },
           "zaxis": {
            "backgroundcolor": "#E5ECF6",
            "gridcolor": "white",
            "gridwidth": 2,
            "linecolor": "white",
            "showbackground": true,
            "ticks": "",
            "zerolinecolor": "white"
           }
          },
          "shapedefaults": {
           "line": {
            "color": "#2a3f5f"
           }
          },
          "ternary": {
           "aaxis": {
            "gridcolor": "white",
            "linecolor": "white",
            "ticks": ""
           },
           "baxis": {
            "gridcolor": "white",
            "linecolor": "white",
            "ticks": ""
           },
           "bgcolor": "#E5ECF6",
           "caxis": {
            "gridcolor": "white",
            "linecolor": "white",
            "ticks": ""
           }
          },
          "title": {
           "x": 0.05
          },
          "xaxis": {
           "automargin": true,
           "gridcolor": "white",
           "linecolor": "white",
           "ticks": "",
           "title": {
            "standoff": 15
           },
           "zerolinecolor": "white",
           "zerolinewidth": 2
          },
          "yaxis": {
           "automargin": true,
           "gridcolor": "white",
           "linecolor": "white",
           "ticks": "",
           "title": {
            "standoff": 15
           },
           "zerolinecolor": "white",
           "zerolinewidth": 2
          }
         }
        },
        "xaxis": {
         "title": {
          "text": "Real"
         }
        },
        "yaxis": {
         "scaleanchor": "x",
         "scaleratio": 1,
         "title": {
          "text": "Imaginary"
         }
        }
       }
      }
     },
     "metadata": {},
     "output_type": "display_data"
    }
   ],
   "source": [
    "z = 2 + 1j\n",
    "plot_complex(z)"
   ]
  },
  {
   "cell_type": "markdown",
   "metadata": {
    "id": "spPME9dPQcnu"
   },
   "source": [
    "And for displaying several complex numbers:"
   ]
  },
  {
   "cell_type": "code",
   "execution_count": 3,
   "metadata": {
    "colab": {
     "base_uri": "https://localhost:8080/",
     "height": 542
    },
    "executionInfo": {
     "elapsed": 14,
     "status": "ok",
     "timestamp": 1702317970078,
     "user": {
      "displayName": "PEDRO RAMONEDA FRANCO",
      "userId": "10653804143244385715"
     },
     "user_tz": -60
    },
    "id": "kCCRfQrhQhGU",
    "outputId": "dc3f16fe-5ec1-402e-eeab-1d019fcdbce6"
   },
   "outputs": [
    {
     "data": {
      "application/vnd.plotly.v1+json": {
       "config": {
        "plotlyServerURL": "https://plot.ly"
       },
       "data": [
        {
         "line": {
          "color": "rgb(150,150,150)",
          "dash": "dash",
          "shape": "linear"
         },
         "mode": "lines",
         "name": "unit circle",
         "type": "scatter",
         "x": {
          "bdata": "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",
          "dtype": "f8"
         },
         "y": {
          "bdata": "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",
          "dtype": "f8"
         }
        },
        {
         "marker": {
          "color": "#1f77b4"
         },
         "mode": "markers",
         "name": "z1",
         "type": "scatter",
         "x": [
          2
         ],
         "y": [
          1
         ]
        },
        {
         "marker": {
          "color": "#ff7f0e"
         },
         "mode": "markers",
         "name": "z2",
         "type": "scatter",
         "x": [
          0
         ],
         "y": [
          1
         ]
        },
        {
         "marker": {
          "color": "#2ca02c"
         },
         "mode": "markers",
         "name": "z3",
         "type": "scatter",
         "x": [
          0
         ],
         "y": [
          -0.5
         ]
        }
       ],
       "layout": {
        "annotations": [
         {
          "arrowcolor": "#1f77b4",
          "arrowhead": 3,
          "arrowwidth": 1.5,
          "ax": 0,
          "axref": "x",
          "ay": 0,
          "ayref": "y",
          "showarrow": true,
          "text": "",
          "x": 2,
          "y": 1
         },
         {
          "arrowcolor": "#ff7f0e",
          "arrowhead": 3,
          "arrowwidth": 1.5,
          "ax": 0,
          "axref": "x",
          "ay": 0,
          "ayref": "y",
          "showarrow": true,
          "text": "",
          "x": 0,
          "y": 1
         },
         {
          "arrowcolor": "#2ca02c",
          "arrowhead": 3,
          "arrowwidth": 1.5,
          "ax": 0,
          "axref": "x",
          "ay": 0,
          "ayref": "y",
          "showarrow": true,
          "text": "",
          "x": 0,
          "y": -0.5
         }
        ],
        "template": {
         "data": {
          "bar": [
           {
            "error_x": {
             "color": "#2a3f5f"
            },
            "error_y": {
             "color": "#2a3f5f"
            },
            "marker": {
             "line": {
              "color": "#E5ECF6",
              "width": 0.5
             },
             "pattern": {
              "fillmode": "overlay",
              "size": 10,
              "solidity": 0.2
             }
            },
            "type": "bar"
           }
          ],
          "barpolar": [
           {
            "marker": {
             "line": {
              "color": "#E5ECF6",
              "width": 0.5
             },
             "pattern": {
              "fillmode": "overlay",
              "size": 10,
              "solidity": 0.2
             }
            },
            "type": "barpolar"
           }
          ],
          "carpet": [
           {
            "aaxis": {
             "endlinecolor": "#2a3f5f",
             "gridcolor": "white",
             "linecolor": "white",
             "minorgridcolor": "white",
             "startlinecolor": "#2a3f5f"
            },
            "baxis": {
             "endlinecolor": "#2a3f5f",
             "gridcolor": "white",
             "linecolor": "white",
             "minorgridcolor": "white",
             "startlinecolor": "#2a3f5f"
            },
            "type": "carpet"
           }
          ],
          "choropleth": [
           {
            "colorbar": {
             "outlinewidth": 0,
             "ticks": ""
            },
            "type": "choropleth"
           }
          ],
          "contour": [
           {
            "colorbar": {
             "outlinewidth": 0,
             "ticks": ""
            },
            "colorscale": [
             [
              0,
              "#0d0887"
             ],
             [
              0.1111111111111111,
              "#46039f"
             ],
             [
              0.2222222222222222,
              "#7201a8"
             ],
             [
              0.3333333333333333,
              "#9c179e"
             ],
             [
              0.4444444444444444,
              "#bd3786"
             ],
             [
              0.5555555555555556,
              "#d8576b"
             ],
             [
              0.6666666666666666,
              "#ed7953"
             ],
             [
              0.7777777777777778,
              "#fb9f3a"
             ],
             [
              0.8888888888888888,
              "#fdca26"
             ],
             [
              1,
              "#f0f921"
             ]
            ],
            "type": "contour"
           }
          ],
          "contourcarpet": [
           {
            "colorbar": {
             "outlinewidth": 0,
             "ticks": ""
            },
            "type": "contourcarpet"
           }
          ],
          "heatmap": [
           {
            "colorbar": {
             "outlinewidth": 0,
             "ticks": ""
            },
            "colorscale": [
             [
              0,
              "#0d0887"
             ],
             [
              0.1111111111111111,
              "#46039f"
             ],
             [
              0.2222222222222222,
              "#7201a8"
             ],
             [
              0.3333333333333333,
              "#9c179e"
             ],
             [
              0.4444444444444444,
              "#bd3786"
             ],
             [
              0.5555555555555556,
              "#d8576b"
             ],
             [
              0.6666666666666666,
              "#ed7953"
             ],
             [
              0.7777777777777778,
              "#fb9f3a"
             ],
             [
              0.8888888888888888,
              "#fdca26"
             ],
             [
              1,
              "#f0f921"
             ]
            ],
            "type": "heatmap"
           }
          ],
          "histogram": [
           {
            "marker": {
             "pattern": {
              "fillmode": "overlay",
              "size": 10,
              "solidity": 0.2
             }
            },
            "type": "histogram"
           }
          ],
          "histogram2d": [
           {
            "colorbar": {
             "outlinewidth": 0,
             "ticks": ""
            },
            "colorscale": [
             [
              0,
              "#0d0887"
             ],
             [
              0.1111111111111111,
              "#46039f"
             ],
             [
              0.2222222222222222,
              "#7201a8"
             ],
             [
              0.3333333333333333,
              "#9c179e"
             ],
             [
              0.4444444444444444,
              "#bd3786"
             ],
             [
              0.5555555555555556,
              "#d8576b"
             ],
             [
              0.6666666666666666,
              "#ed7953"
             ],
             [
              0.7777777777777778,
              "#fb9f3a"
             ],
             [
              0.8888888888888888,
              "#fdca26"
             ],
             [
              1,
              "#f0f921"
             ]
            ],
            "type": "histogram2d"
           }
          ],
          "histogram2dcontour": [
           {
            "colorbar": {
             "outlinewidth": 0,
             "ticks": ""
            },
            "colorscale": [
             [
              0,
              "#0d0887"
             ],
             [
              0.1111111111111111,
              "#46039f"
             ],
             [
              0.2222222222222222,
              "#7201a8"
             ],
             [
              0.3333333333333333,
              "#9c179e"
             ],
             [
              0.4444444444444444,
              "#bd3786"
             ],
             [
              0.5555555555555556,
              "#d8576b"
             ],
             [
              0.6666666666666666,
              "#ed7953"
             ],
             [
              0.7777777777777778,
              "#fb9f3a"
             ],
             [
              0.8888888888888888,
              "#fdca26"
             ],
             [
              1,
              "#f0f921"
             ]
            ],
            "type": "histogram2dcontour"
           }
          ],
          "mesh3d": [
           {
            "colorbar": {
             "outlinewidth": 0,
             "ticks": ""
            },
            "type": "mesh3d"
           }
          ],
          "parcoords": [
           {
            "line": {
             "colorbar": {
              "outlinewidth": 0,
              "ticks": ""
             }
            },
            "type": "parcoords"
           }
          ],
          "pie": [
           {
            "automargin": true,
            "type": "pie"
           }
          ],
          "scatter": [
           {
            "fillpattern": {
             "fillmode": "overlay",
             "size": 10,
             "solidity": 0.2
            },
            "type": "scatter"
           }
          ],
          "scatter3d": [
           {
            "line": {
             "colorbar": {
              "outlinewidth": 0,
              "ticks": ""
             }
            },
            "marker": {
             "colorbar": {
              "outlinewidth": 0,
              "ticks": ""
             }
            },
            "type": "scatter3d"
           }
          ],
          "scattercarpet": [
           {
            "marker": {
             "colorbar": {
              "outlinewidth": 0,
              "ticks": ""
             }
            },
            "type": "scattercarpet"
           }
          ],
          "scattergeo": [
           {
            "marker": {
             "colorbar": {
              "outlinewidth": 0,
              "ticks": ""
             }
            },
            "type": "scattergeo"
           }
          ],
          "scattergl": [
           {
            "marker": {
             "colorbar": {
              "outlinewidth": 0,
              "ticks": ""
             }
            },
            "type": "scattergl"
           }
          ],
          "scattermap": [
           {
            "marker": {
             "colorbar": {
              "outlinewidth": 0,
              "ticks": ""
             }
            },
            "type": "scattermap"
           }
          ],
          "scattermapbox": [
           {
            "marker": {
             "colorbar": {
              "outlinewidth": 0,
              "ticks": ""
             }
            },
            "type": "scattermapbox"
           }
          ],
          "scatterpolar": [
           {
            "marker": {
             "colorbar": {
              "outlinewidth": 0,
              "ticks": ""
             }
            },
            "type": "scatterpolar"
           }
          ],
          "scatterpolargl": [
           {
            "marker": {
             "colorbar": {
              "outlinewidth": 0,
              "ticks": ""
             }
            },
            "type": "scatterpolargl"
           }
          ],
          "scatterternary": [
           {
            "marker": {
             "colorbar": {
              "outlinewidth": 0,
              "ticks": ""
             }
            },
            "type": "scatterternary"
           }
          ],
          "surface": [
           {
            "colorbar": {
             "outlinewidth": 0,
             "ticks": ""
            },
            "colorscale": [
             [
              0,
              "#0d0887"
             ],
             [
              0.1111111111111111,
              "#46039f"
             ],
             [
              0.2222222222222222,
              "#7201a8"
             ],
             [
              0.3333333333333333,
              "#9c179e"
             ],
             [
              0.4444444444444444,
              "#bd3786"
             ],
             [
              0.5555555555555556,
              "#d8576b"
             ],
             [
              0.6666666666666666,
              "#ed7953"
             ],
             [
              0.7777777777777778,
              "#fb9f3a"
             ],
             [
              0.8888888888888888,
              "#fdca26"
             ],
             [
              1,
              "#f0f921"
             ]
            ],
            "type": "surface"
           }
          ],
          "table": [
           {
            "cells": {
             "fill": {
              "color": "#EBF0F8"
             },
             "line": {
              "color": "white"
             }
            },
            "header": {
             "fill": {
              "color": "#C8D4E3"
             },
             "line": {
              "color": "white"
             }
            },
            "type": "table"
           }
          ]
         },
         "layout": {
          "annotationdefaults": {
           "arrowcolor": "#2a3f5f",
           "arrowhead": 0,
           "arrowwidth": 1
          },
          "autotypenumbers": "strict",
          "coloraxis": {
           "colorbar": {
            "outlinewidth": 0,
            "ticks": ""
           }
          },
          "colorscale": {
           "diverging": [
            [
             0,
             "#8e0152"
            ],
            [
             0.1,
             "#c51b7d"
            ],
            [
             0.2,
             "#de77ae"
            ],
            [
             0.3,
             "#f1b6da"
            ],
            [
             0.4,
             "#fde0ef"
            ],
            [
             0.5,
             "#f7f7f7"
            ],
            [
             0.6,
             "#e6f5d0"
            ],
            [
             0.7,
             "#b8e186"
            ],
            [
             0.8,
             "#7fbc41"
            ],
            [
             0.9,
             "#4d9221"
            ],
            [
             1,
             "#276419"
            ]
           ],
           "sequential": [
            [
             0,
             "#0d0887"
            ],
            [
             0.1111111111111111,
             "#46039f"
            ],
            [
             0.2222222222222222,
             "#7201a8"
            ],
            [
             0.3333333333333333,
             "#9c179e"
            ],
            [
             0.4444444444444444,
             "#bd3786"
            ],
            [
             0.5555555555555556,
             "#d8576b"
            ],
            [
             0.6666666666666666,
             "#ed7953"
            ],
            [
             0.7777777777777778,
             "#fb9f3a"
            ],
            [
             0.8888888888888888,
             "#fdca26"
            ],
            [
             1,
             "#f0f921"
            ]
           ],
           "sequentialminus": [
            [
             0,
             "#0d0887"
            ],
            [
             0.1111111111111111,
             "#46039f"
            ],
            [
             0.2222222222222222,
             "#7201a8"
            ],
            [
             0.3333333333333333,
             "#9c179e"
            ],
            [
             0.4444444444444444,
             "#bd3786"
            ],
            [
             0.5555555555555556,
             "#d8576b"
            ],
            [
             0.6666666666666666,
             "#ed7953"
            ],
            [
             0.7777777777777778,
             "#fb9f3a"
            ],
            [
             0.8888888888888888,
             "#fdca26"
            ],
            [
             1,
             "#f0f921"
            ]
           ]
          },
          "colorway": [
           "#636efa",
           "#EF553B",
           "#00cc96",
           "#ab63fa",
           "#FFA15A",
           "#19d3f3",
           "#FF6692",
           "#B6E880",
           "#FF97FF",
           "#FECB52"
          ],
          "font": {
           "color": "#2a3f5f"
          },
          "geo": {
           "bgcolor": "white",
           "lakecolor": "white",
           "landcolor": "#E5ECF6",
           "showlakes": true,
           "showland": true,
           "subunitcolor": "white"
          },
          "hoverlabel": {
           "align": "left"
          },
          "hovermode": "closest",
          "mapbox": {
           "style": "light"
          },
          "paper_bgcolor": "white",
          "plot_bgcolor": "#E5ECF6",
          "polar": {
           "angularaxis": {
            "gridcolor": "white",
            "linecolor": "white",
            "ticks": ""
           },
           "bgcolor": "#E5ECF6",
           "radialaxis": {
            "gridcolor": "white",
            "linecolor": "white",
            "ticks": ""
           }
          },
          "scene": {
           "xaxis": {
            "backgroundcolor": "#E5ECF6",
            "gridcolor": "white",
            "gridwidth": 2,
            "linecolor": "white",
            "showbackground": true,
            "ticks": "",
            "zerolinecolor": "white"
           },
           "yaxis": {
            "backgroundcolor": "#E5ECF6",
            "gridcolor": "white",
            "gridwidth": 2,
            "linecolor": "white",
            "showbackground": true,
            "ticks": "",
            "zerolinecolor": "white"
           },
           "zaxis": {
            "backgroundcolor": "#E5ECF6",
            "gridcolor": "white",
            "gridwidth": 2,
            "linecolor": "white",
            "showbackground": true,
            "ticks": "",
            "zerolinecolor": "white"
           }
          },
          "shapedefaults": {
           "line": {
            "color": "#2a3f5f"
           }
          },
          "ternary": {
           "aaxis": {
            "gridcolor": "white",
            "linecolor": "white",
            "ticks": ""
           },
           "baxis": {
            "gridcolor": "white",
            "linecolor": "white",
            "ticks": ""
           },
           "bgcolor": "#E5ECF6",
           "caxis": {
            "gridcolor": "white",
            "linecolor": "white",
            "ticks": ""
           }
          },
          "title": {
           "x": 0.05
          },
          "xaxis": {
           "automargin": true,
           "gridcolor": "white",
           "linecolor": "white",
           "ticks": "",
           "title": {
            "standoff": 15
           },
           "zerolinecolor": "white",
           "zerolinewidth": 2
          },
          "yaxis": {
           "automargin": true,
           "gridcolor": "white",
           "linecolor": "white",
           "ticks": "",
           "title": {
            "standoff": 15
           },
           "zerolinecolor": "white",
           "zerolinewidth": 2
          }
         }
        },
        "xaxis": {
         "title": {
          "text": "Real"
         }
        },
        "yaxis": {
         "scaleanchor": "x",
         "scaleratio": 1,
         "title": {
          "text": "Imaginary"
         }
        }
       }
      }
     },
     "metadata": {},
     "output_type": "display_data"
    }
   ],
   "source": [
    "z1 = 2 + 1j\n",
    "z2 = 1j\n",
    "z3 = -0.5j\n",
    "plot_complex([z1, z2, z3], name=['z1', 'z2', 'z3'])"
   ]
  },
  {
   "cell_type": "markdown",
   "metadata": {
    "id": "aOfR7uusRA13"
   },
   "source": [
    "# **Exercises**\n",
    "\n",
    "**1. Complex Numbers**\n",
    "\n",
    "To exercise your understanding of complex numbers, do the following:\n",
    "\n",
    "1.1. Define $z_1 = -1+j0.3$ and $z_2 = 0.8+j0.7$. Enter these in Python and plot them as points and vectors in the complex plane."
   ]
  },
  {
   "cell_type": "code",
   "execution_count": 11,
   "metadata": {
    "executionInfo": {
     "elapsed": 13,
     "status": "ok",
     "timestamp": 1702317970078,
     "user": {
      "displayName": "PEDRO RAMONEDA FRANCO",
      "userId": "10653804143244385715"
     },
     "user_tz": -60
    },
    "id": "oGUfC_09QFHN"
   },
   "outputs": [
    {
     "data": {
      "application/vnd.plotly.v1+json": {
       "config": {
        "plotlyServerURL": "https://plot.ly"
       },
       "data": [
        {
         "line": {
          "color": "rgb(150,150,150)",
          "dash": "dash",
          "shape": "linear"
         },
         "mode": "lines",
         "name": "unit circle",
         "type": "scatter",
         "x": {
          "bdata": "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",
          "dtype": "f8"
         },
         "y": {
          "bdata": "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",
          "dtype": "f8"
         }
        },
        {
         "marker": {
          "color": "#1f77b4"
         },
         "mode": "markers",
         "name": "z1",
         "type": "scatter",
         "x": [
          -1
         ],
         "y": [
          0.3
         ]
        },
        {
         "marker": {
          "color": "#ff7f0e"
         },
         "mode": "markers",
         "name": "z2",
         "type": "scatter",
         "x": [
          0.8
         ],
         "y": [
          0.7
         ]
        }
       ],
       "layout": {
        "annotations": [
         {
          "arrowcolor": "#1f77b4",
          "arrowhead": 3,
          "arrowwidth": 1.5,
          "ax": 0,
          "axref": "x",
          "ay": 0,
          "ayref": "y",
          "showarrow": true,
          "text": "",
          "x": -1,
          "y": 0.3
         },
         {
          "arrowcolor": "#ff7f0e",
          "arrowhead": 3,
          "arrowwidth": 1.5,
          "ax": 0,
          "axref": "x",
          "ay": 0,
          "ayref": "y",
          "showarrow": true,
          "text": "",
          "x": 0.8,
          "y": 0.7
         }
        ],
        "template": {
         "data": {
          "bar": [
           {
            "error_x": {
             "color": "#2a3f5f"
            },
            "error_y": {
             "color": "#2a3f5f"
            },
            "marker": {
             "line": {
              "color": "#E5ECF6",
              "width": 0.5
             },
             "pattern": {
              "fillmode": "overlay",
              "size": 10,
              "solidity": 0.2
             }
            },
            "type": "bar"
           }
          ],
          "barpolar": [
           {
            "marker": {
             "line": {
              "color": "#E5ECF6",
              "width": 0.5
             },
             "pattern": {
              "fillmode": "overlay",
              "size": 10,
              "solidity": 0.2
             }
            },
            "type": "barpolar"
           }
          ],
          "carpet": [
           {
            "aaxis": {
             "endlinecolor": "#2a3f5f",
             "gridcolor": "white",
             "linecolor": "white",
             "minorgridcolor": "white",
             "startlinecolor": "#2a3f5f"
            },
            "baxis": {
             "endlinecolor": "#2a3f5f",
             "gridcolor": "white",
             "linecolor": "white",
             "minorgridcolor": "white",
             "startlinecolor": "#2a3f5f"
            },
            "type": "carpet"
           }
          ],
          "choropleth": [
           {
            "colorbar": {
             "outlinewidth": 0,
             "ticks": ""
            },
            "type": "choropleth"
           }
          ],
          "contour": [
           {
            "colorbar": {
             "outlinewidth": 0,
             "ticks": ""
            },
            "colorscale": [
             [
              0,
              "#0d0887"
             ],
             [
              0.1111111111111111,
              "#46039f"
             ],
             [
              0.2222222222222222,
              "#7201a8"
             ],
             [
              0.3333333333333333,
              "#9c179e"
             ],
             [
              0.4444444444444444,
              "#bd3786"
             ],
             [
              0.5555555555555556,
              "#d8576b"
             ],
             [
              0.6666666666666666,
              "#ed7953"
             ],
             [
              0.7777777777777778,
              "#fb9f3a"
             ],
             [
              0.8888888888888888,
              "#fdca26"
             ],
             [
              1,
              "#f0f921"
             ]
            ],
            "type": "contour"
           }
          ],
          "contourcarpet": [
           {
            "colorbar": {
             "outlinewidth": 0,
             "ticks": ""
            },
            "type": "contourcarpet"
           }
          ],
          "heatmap": [
           {
            "colorbar": {
             "outlinewidth": 0,
             "ticks": ""
            },
            "colorscale": [
             [
              0,
              "#0d0887"
             ],
             [
              0.1111111111111111,
              "#46039f"
             ],
             [
              0.2222222222222222,
              "#7201a8"
             ],
             [
              0.3333333333333333,
              "#9c179e"
             ],
             [
              0.4444444444444444,
              "#bd3786"
             ],
             [
              0.5555555555555556,
              "#d8576b"
             ],
             [
              0.6666666666666666,
              "#ed7953"
             ],
             [
              0.7777777777777778,
              "#fb9f3a"
             ],
             [
              0.8888888888888888,
              "#fdca26"
             ],
             [
              1,
              "#f0f921"
             ]
            ],
            "type": "heatmap"
           }
          ],
          "histogram": [
           {
            "marker": {
             "pattern": {
              "fillmode": "overlay",
              "size": 10,
              "solidity": 0.2
             }
            },
            "type": "histogram"
           }
          ],
          "histogram2d": [
           {
            "colorbar": {
             "outlinewidth": 0,
             "ticks": ""
            },
            "colorscale": [
             [
              0,
              "#0d0887"
             ],
             [
              0.1111111111111111,
              "#46039f"
             ],
             [
              0.2222222222222222,
              "#7201a8"
             ],
             [
              0.3333333333333333,
              "#9c179e"
             ],
             [
              0.4444444444444444,
              "#bd3786"
             ],
             [
              0.5555555555555556,
              "#d8576b"
             ],
             [
              0.6666666666666666,
              "#ed7953"
             ],
             [
              0.7777777777777778,
              "#fb9f3a"
             ],
             [
              0.8888888888888888,
              "#fdca26"
             ],
             [
              1,
              "#f0f921"
             ]
            ],
            "type": "histogram2d"
           }
          ],
          "histogram2dcontour": [
           {
            "colorbar": {
             "outlinewidth": 0,
             "ticks": ""
            },
            "colorscale": [
             [
              0,
              "#0d0887"
             ],
             [
              0.1111111111111111,
              "#46039f"
             ],
             [
              0.2222222222222222,
              "#7201a8"
             ],
             [
              0.3333333333333333,
              "#9c179e"
             ],
             [
              0.4444444444444444,
              "#bd3786"
             ],
             [
              0.5555555555555556,
              "#d8576b"
             ],
             [
              0.6666666666666666,
              "#ed7953"
             ],
             [
              0.7777777777777778,
              "#fb9f3a"
             ],
             [
              0.8888888888888888,
              "#fdca26"
             ],
             [
              1,
              "#f0f921"
             ]
            ],
            "type": "histogram2dcontour"
           }
          ],
          "mesh3d": [
           {
            "colorbar": {
             "outlinewidth": 0,
             "ticks": ""
            },
            "type": "mesh3d"
           }
          ],
          "parcoords": [
           {
            "line": {
             "colorbar": {
              "outlinewidth": 0,
              "ticks": ""
             }
            },
            "type": "parcoords"
           }
          ],
          "pie": [
           {
            "automargin": true,
            "type": "pie"
           }
          ],
          "scatter": [
           {
            "fillpattern": {
             "fillmode": "overlay",
             "size": 10,
             "solidity": 0.2
            },
            "type": "scatter"
           }
          ],
          "scatter3d": [
           {
            "line": {
             "colorbar": {
              "outlinewidth": 0,
              "ticks": ""
             }
            },
            "marker": {
             "colorbar": {
              "outlinewidth": 0,
              "ticks": ""
             }
            },
            "type": "scatter3d"
           }
          ],
          "scattercarpet": [
           {
            "marker": {
             "colorbar": {
              "outlinewidth": 0,
              "ticks": ""
             }
            },
            "type": "scattercarpet"
           }
          ],
          "scattergeo": [
           {
            "marker": {
             "colorbar": {
              "outlinewidth": 0,
              "ticks": ""
             }
            },
            "type": "scattergeo"
           }
          ],
          "scattergl": [
           {
            "marker": {
             "colorbar": {
              "outlinewidth": 0,
              "ticks": ""
             }
            },
            "type": "scattergl"
           }
          ],
          "scattermap": [
           {
            "marker": {
             "colorbar": {
              "outlinewidth": 0,
              "ticks": ""
             }
            },
            "type": "scattermap"
           }
          ],
          "scattermapbox": [
           {
            "marker": {
             "colorbar": {
              "outlinewidth": 0,
              "ticks": ""
             }
            },
            "type": "scattermapbox"
           }
          ],
          "scatterpolar": [
           {
            "marker": {
             "colorbar": {
              "outlinewidth": 0,
              "ticks": ""
             }
            },
            "type": "scatterpolar"
           }
          ],
          "scatterpolargl": [
           {
            "marker": {
             "colorbar": {
              "outlinewidth": 0,
              "ticks": ""
             }
            },
            "type": "scatterpolargl"
           }
          ],
          "scatterternary": [
           {
            "marker": {
             "colorbar": {
              "outlinewidth": 0,
              "ticks": ""
             }
            },
            "type": "scatterternary"
           }
          ],
          "surface": [
           {
            "colorbar": {
             "outlinewidth": 0,
             "ticks": ""
            },
            "colorscale": [
             [
              0,
              "#0d0887"
             ],
             [
              0.1111111111111111,
              "#46039f"
             ],
             [
              0.2222222222222222,
              "#7201a8"
             ],
             [
              0.3333333333333333,
              "#9c179e"
             ],
             [
              0.4444444444444444,
              "#bd3786"
             ],
             [
              0.5555555555555556,
              "#d8576b"
             ],
             [
              0.6666666666666666,
              "#ed7953"
             ],
             [
              0.7777777777777778,
              "#fb9f3a"
             ],
             [
              0.8888888888888888,
              "#fdca26"
             ],
             [
              1,
              "#f0f921"
             ]
            ],
            "type": "surface"
           }
          ],
          "table": [
           {
            "cells": {
             "fill": {
              "color": "#EBF0F8"
             },
             "line": {
              "color": "white"
             }
            },
            "header": {
             "fill": {
              "color": "#C8D4E3"
             },
             "line": {
              "color": "white"
             }
            },
            "type": "table"
           }
          ]
         },
         "layout": {
          "annotationdefaults": {
           "arrowcolor": "#2a3f5f",
           "arrowhead": 0,
           "arrowwidth": 1
          },
          "autotypenumbers": "strict",
          "coloraxis": {
           "colorbar": {
            "outlinewidth": 0,
            "ticks": ""
           }
          },
          "colorscale": {
           "diverging": [
            [
             0,
             "#8e0152"
            ],
            [
             0.1,
             "#c51b7d"
            ],
            [
             0.2,
             "#de77ae"
            ],
            [
             0.3,
             "#f1b6da"
            ],
            [
             0.4,
             "#fde0ef"
            ],
            [
             0.5,
             "#f7f7f7"
            ],
            [
             0.6,
             "#e6f5d0"
            ],
            [
             0.7,
             "#b8e186"
            ],
            [
             0.8,
             "#7fbc41"
            ],
            [
             0.9,
             "#4d9221"
            ],
            [
             1,
             "#276419"
            ]
           ],
           "sequential": [
            [
             0,
             "#0d0887"
            ],
            [
             0.1111111111111111,
             "#46039f"
            ],
            [
             0.2222222222222222,
             "#7201a8"
            ],
            [
             0.3333333333333333,
             "#9c179e"
            ],
            [
             0.4444444444444444,
             "#bd3786"
            ],
            [
             0.5555555555555556,
             "#d8576b"
            ],
            [
             0.6666666666666666,
             "#ed7953"
            ],
            [
             0.7777777777777778,
             "#fb9f3a"
            ],
            [
             0.8888888888888888,
             "#fdca26"
            ],
            [
             1,
             "#f0f921"
            ]
           ],
           "sequentialminus": [
            [
             0,
             "#0d0887"
            ],
            [
             0.1111111111111111,
             "#46039f"
            ],
            [
             0.2222222222222222,
             "#7201a8"
            ],
            [
             0.3333333333333333,
             "#9c179e"
            ],
            [
             0.4444444444444444,
             "#bd3786"
            ],
            [
             0.5555555555555556,
             "#d8576b"
            ],
            [
             0.6666666666666666,
             "#ed7953"
            ],
            [
             0.7777777777777778,
             "#fb9f3a"
            ],
            [
             0.8888888888888888,
             "#fdca26"
            ],
            [
             1,
             "#f0f921"
            ]
           ]
          },
          "colorway": [
           "#636efa",
           "#EF553B",
           "#00cc96",
           "#ab63fa",
           "#FFA15A",
           "#19d3f3",
           "#FF6692",
           "#B6E880",
           "#FF97FF",
           "#FECB52"
          ],
          "font": {
           "color": "#2a3f5f"
          },
          "geo": {
           "bgcolor": "white",
           "lakecolor": "white",
           "landcolor": "#E5ECF6",
           "showlakes": true,
           "showland": true,
           "subunitcolor": "white"
          },
          "hoverlabel": {
           "align": "left"
          },
          "hovermode": "closest",
          "mapbox": {
           "style": "light"
          },
          "paper_bgcolor": "white",
          "plot_bgcolor": "#E5ECF6",
          "polar": {
           "angularaxis": {
            "gridcolor": "white",
            "linecolor": "white",
            "ticks": ""
           },
           "bgcolor": "#E5ECF6",
           "radialaxis": {
            "gridcolor": "white",
            "linecolor": "white",
            "ticks": ""
           }
          },
          "scene": {
           "xaxis": {
            "backgroundcolor": "#E5ECF6",
            "gridcolor": "white",
            "gridwidth": 2,
            "linecolor": "white",
            "showbackground": true,
            "ticks": "",
            "zerolinecolor": "white"
           },
           "yaxis": {
            "backgroundcolor": "#E5ECF6",
            "gridcolor": "white",
            "gridwidth": 2,
            "linecolor": "white",
            "showbackground": true,
            "ticks": "",
            "zerolinecolor": "white"
           },
           "zaxis": {
            "backgroundcolor": "#E5ECF6",
            "gridcolor": "white",
            "gridwidth": 2,
            "linecolor": "white",
            "showbackground": true,
            "ticks": "",
            "zerolinecolor": "white"
           }
          },
          "shapedefaults": {
           "line": {
            "color": "#2a3f5f"
           }
          },
          "ternary": {
           "aaxis": {
            "gridcolor": "white",
            "linecolor": "white",
            "ticks": ""
           },
           "baxis": {
            "gridcolor": "white",
            "linecolor": "white",
            "ticks": ""
           },
           "bgcolor": "#E5ECF6",
           "caxis": {
            "gridcolor": "white",
            "linecolor": "white",
            "ticks": ""
           }
          },
          "title": {
           "x": 0.05
          },
          "xaxis": {
           "automargin": true,
           "gridcolor": "white",
           "linecolor": "white",
           "ticks": "",
           "title": {
            "standoff": 15
           },
           "zerolinecolor": "white",
           "zerolinewidth": 2
          },
          "yaxis": {
           "automargin": true,
           "gridcolor": "white",
           "linecolor": "white",
           "ticks": "",
           "title": {
            "standoff": 15
           },
           "zerolinecolor": "white",
           "zerolinewidth": 2
          }
         }
        },
        "xaxis": {
         "title": {
          "text": "Real"
         }
        },
        "yaxis": {
         "scaleanchor": "x",
         "scaleratio": 1,
         "title": {
          "text": "Imaginary"
         }
        }
       }
      }
     },
     "metadata": {},
     "output_type": "display_data"
    }
   ],
   "source": [
    "z1 = -1 + 0.3j\n",
    "z2 = 0.8 + 0.7j\n",
    "\n",
    "plot_complex([z1,z2], name=[\"z1\",\"z2\"])"
   ]
  },
  {
   "cell_type": "markdown",
   "metadata": {
    "id": "HI6f-fu7KD5a"
   },
   "source": [
    "1.2. Compute the conjugate z* and the inverse 1/z for both $z_1$ and $z_2$ and plot the results as vectors in the complex plane."
   ]
  },
  {
   "cell_type": "code",
   "execution_count": 15,
   "metadata": {
    "executionInfo": {
     "elapsed": 12,
     "status": "ok",
     "timestamp": 1702317970078,
     "user": {
      "displayName": "PEDRO RAMONEDA FRANCO",
      "userId": "10653804143244385715"
     },
     "user_tz": -60
    },
    "id": "Novsdl6JRX7z"
   },
   "outputs": [
    {
     "data": {
      "application/vnd.plotly.v1+json": {
       "config": {
        "plotlyServerURL": "https://plot.ly"
       },
       "data": [
        {
         "line": {
          "color": "rgb(150,150,150)",
          "dash": "dash",
          "shape": "linear"
         },
         "mode": "lines",
         "name": "unit circle",
         "type": "scatter",
         "x": {
          "bdata": "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",
          "dtype": "f8"
         },
         "y": {
          "bdata": "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",
          "dtype": "f8"
         }
        },
        {
         "marker": {
          "color": "#1f77b4"
         },
         "mode": "markers",
         "name": "conjugated z1",
         "type": "scatter",
         "x": [
          -1
         ],
         "y": [
          -0.3
         ]
        },
        {
         "marker": {
          "color": "#ff7f0e"
         },
         "mode": "markers",
         "name": "conjugated z2",
         "type": "scatter",
         "x": [
          0.8
         ],
         "y": [
          -0.7
         ]
        },
        {
         "marker": {
          "color": "#2ca02c"
         },
         "mode": "markers",
         "name": "inverse z1",
         "type": "scatter",
         "x": [
          -0.9174311926605504
         ],
         "y": [
          -0.2752293577981651
         ]
        },
        {
         "marker": {
          "color": "#d62728"
         },
         "mode": "markers",
         "name": "inverse z2",
         "type": "scatter",
         "x": [
          0.7079646017699115
         ],
         "y": [
          -0.6194690265486724
         ]
        }
       ],
       "layout": {
        "annotations": [
         {
          "arrowcolor": "#1f77b4",
          "arrowhead": 3,
          "arrowwidth": 1.5,
          "ax": 0,
          "axref": "x",
          "ay": 0,
          "ayref": "y",
          "showarrow": true,
          "text": "",
          "x": -1,
          "y": -0.3
         },
         {
          "arrowcolor": "#ff7f0e",
          "arrowhead": 3,
          "arrowwidth": 1.5,
          "ax": 0,
          "axref": "x",
          "ay": 0,
          "ayref": "y",
          "showarrow": true,
          "text": "",
          "x": 0.8,
          "y": -0.7
         },
         {
          "arrowcolor": "#2ca02c",
          "arrowhead": 3,
          "arrowwidth": 1.5,
          "ax": 0,
          "axref": "x",
          "ay": 0,
          "ayref": "y",
          "showarrow": true,
          "text": "",
          "x": -0.9174311926605504,
          "y": -0.2752293577981651
         },
         {
          "arrowcolor": "#d62728",
          "arrowhead": 3,
          "arrowwidth": 1.5,
          "ax": 0,
          "axref": "x",
          "ay": 0,
          "ayref": "y",
          "showarrow": true,
          "text": "",
          "x": 0.7079646017699115,
          "y": -0.6194690265486724
         }
        ],
        "template": {
         "data": {
          "bar": [
           {
            "error_x": {
             "color": "#2a3f5f"
            },
            "error_y": {
             "color": "#2a3f5f"
            },
            "marker": {
             "line": {
              "color": "#E5ECF6",
              "width": 0.5
             },
             "pattern": {
              "fillmode": "overlay",
              "size": 10,
              "solidity": 0.2
             }
            },
            "type": "bar"
           }
          ],
          "barpolar": [
           {
            "marker": {
             "line": {
              "color": "#E5ECF6",
              "width": 0.5
             },
             "pattern": {
              "fillmode": "overlay",
              "size": 10,
              "solidity": 0.2
             }
            },
            "type": "barpolar"
           }
          ],
          "carpet": [
           {
            "aaxis": {
             "endlinecolor": "#2a3f5f",
             "gridcolor": "white",
             "linecolor": "white",
             "minorgridcolor": "white",
             "startlinecolor": "#2a3f5f"
            },
            "baxis": {
             "endlinecolor": "#2a3f5f",
             "gridcolor": "white",
             "linecolor": "white",
             "minorgridcolor": "white",
             "startlinecolor": "#2a3f5f"
            },
            "type": "carpet"
           }
          ],
          "choropleth": [
           {
            "colorbar": {
             "outlinewidth": 0,
             "ticks": ""
            },
            "type": "choropleth"
           }
          ],
          "contour": [
           {
            "colorbar": {
             "outlinewidth": 0,
             "ticks": ""
            },
            "colorscale": [
             [
              0,
              "#0d0887"
             ],
             [
              0.1111111111111111,
              "#46039f"
             ],
             [
              0.2222222222222222,
              "#7201a8"
             ],
             [
              0.3333333333333333,
              "#9c179e"
             ],
             [
              0.4444444444444444,
              "#bd3786"
             ],
             [
              0.5555555555555556,
              "#d8576b"
             ],
             [
              0.6666666666666666,
              "#ed7953"
             ],
             [
              0.7777777777777778,
              "#fb9f3a"
             ],
             [
              0.8888888888888888,
              "#fdca26"
             ],
             [
              1,
              "#f0f921"
             ]
            ],
            "type": "contour"
           }
          ],
          "contourcarpet": [
           {
            "colorbar": {
             "outlinewidth": 0,
             "ticks": ""
            },
            "type": "contourcarpet"
           }
          ],
          "heatmap": [
           {
            "colorbar": {
             "outlinewidth": 0,
             "ticks": ""
            },
            "colorscale": [
             [
              0,
              "#0d0887"
             ],
             [
              0.1111111111111111,
              "#46039f"
             ],
             [
              0.2222222222222222,
              "#7201a8"
             ],
             [
              0.3333333333333333,
              "#9c179e"
             ],
             [
              0.4444444444444444,
              "#bd3786"
             ],
             [
              0.5555555555555556,
              "#d8576b"
             ],
             [
              0.6666666666666666,
              "#ed7953"
             ],
             [
              0.7777777777777778,
              "#fb9f3a"
             ],
             [
              0.8888888888888888,
              "#fdca26"
             ],
             [
              1,
              "#f0f921"
             ]
            ],
            "type": "heatmap"
           }
          ],
          "histogram": [
           {
            "marker": {
             "pattern": {
              "fillmode": "overlay",
              "size": 10,
              "solidity": 0.2
             }
            },
            "type": "histogram"
           }
          ],
          "histogram2d": [
           {
            "colorbar": {
             "outlinewidth": 0,
             "ticks": ""
            },
            "colorscale": [
             [
              0,
              "#0d0887"
             ],
             [
              0.1111111111111111,
              "#46039f"
             ],
             [
              0.2222222222222222,
              "#7201a8"
             ],
             [
              0.3333333333333333,
              "#9c179e"
             ],
             [
              0.4444444444444444,
              "#bd3786"
             ],
             [
              0.5555555555555556,
              "#d8576b"
             ],
             [
              0.6666666666666666,
              "#ed7953"
             ],
             [
              0.7777777777777778,
              "#fb9f3a"
             ],
             [
              0.8888888888888888,
              "#fdca26"
             ],
             [
              1,
              "#f0f921"
             ]
            ],
            "type": "histogram2d"
           }
          ],
          "histogram2dcontour": [
           {
            "colorbar": {
             "outlinewidth": 0,
             "ticks": ""
            },
            "colorscale": [
             [
              0,
              "#0d0887"
             ],
             [
              0.1111111111111111,
              "#46039f"
             ],
             [
              0.2222222222222222,
              "#7201a8"
             ],
             [
              0.3333333333333333,
              "#9c179e"
             ],
             [
              0.4444444444444444,
              "#bd3786"
             ],
             [
              0.5555555555555556,
              "#d8576b"
             ],
             [
              0.6666666666666666,
              "#ed7953"
             ],
             [
              0.7777777777777778,
              "#fb9f3a"
             ],
             [
              0.8888888888888888,
              "#fdca26"
             ],
             [
              1,
              "#f0f921"
             ]
            ],
            "type": "histogram2dcontour"
           }
          ],
          "mesh3d": [
           {
            "colorbar": {
             "outlinewidth": 0,
             "ticks": ""
            },
            "type": "mesh3d"
           }
          ],
          "parcoords": [
           {
            "line": {
             "colorbar": {
              "outlinewidth": 0,
              "ticks": ""
             }
            },
            "type": "parcoords"
           }
          ],
          "pie": [
           {
            "automargin": true,
            "type": "pie"
           }
          ],
          "scatter": [
           {
            "fillpattern": {
             "fillmode": "overlay",
             "size": 10,
             "solidity": 0.2
            },
            "type": "scatter"
           }
          ],
          "scatter3d": [
           {
            "line": {
             "colorbar": {
              "outlinewidth": 0,
              "ticks": ""
             }
            },
            "marker": {
             "colorbar": {
              "outlinewidth": 0,
              "ticks": ""
             }
            },
            "type": "scatter3d"
           }
          ],
          "scattercarpet": [
           {
            "marker": {
             "colorbar": {
              "outlinewidth": 0,
              "ticks": ""
             }
            },
            "type": "scattercarpet"
           }
          ],
          "scattergeo": [
           {
            "marker": {
             "colorbar": {
              "outlinewidth": 0,
              "ticks": ""
             }
            },
            "type": "scattergeo"
           }
          ],
          "scattergl": [
           {
            "marker": {
             "colorbar": {
              "outlinewidth": 0,
              "ticks": ""
             }
            },
            "type": "scattergl"
           }
          ],
          "scattermap": [
           {
            "marker": {
             "colorbar": {
              "outlinewidth": 0,
              "ticks": ""
             }
            },
            "type": "scattermap"
           }
          ],
          "scattermapbox": [
           {
            "marker": {
             "colorbar": {
              "outlinewidth": 0,
              "ticks": ""
             }
            },
            "type": "scattermapbox"
           }
          ],
          "scatterpolar": [
           {
            "marker": {
             "colorbar": {
              "outlinewidth": 0,
              "ticks": ""
             }
            },
            "type": "scatterpolar"
           }
          ],
          "scatterpolargl": [
           {
            "marker": {
             "colorbar": {
              "outlinewidth": 0,
              "ticks": ""
             }
            },
            "type": "scatterpolargl"
           }
          ],
          "scatterternary": [
           {
            "marker": {
             "colorbar": {
              "outlinewidth": 0,
              "ticks": ""
             }
            },
            "type": "scatterternary"
           }
          ],
          "surface": [
           {
            "colorbar": {
             "outlinewidth": 0,
             "ticks": ""
            },
            "colorscale": [
             [
              0,
              "#0d0887"
             ],
             [
              0.1111111111111111,
              "#46039f"
             ],
             [
              0.2222222222222222,
              "#7201a8"
             ],
             [
              0.3333333333333333,
              "#9c179e"
             ],
             [
              0.4444444444444444,
              "#bd3786"
             ],
             [
              0.5555555555555556,
              "#d8576b"
             ],
             [
              0.6666666666666666,
              "#ed7953"
             ],
             [
              0.7777777777777778,
              "#fb9f3a"
             ],
             [
              0.8888888888888888,
              "#fdca26"
             ],
             [
              1,
              "#f0f921"
             ]
            ],
            "type": "surface"
           }
          ],
          "table": [
           {
            "cells": {
             "fill": {
              "color": "#EBF0F8"
             },
             "line": {
              "color": "white"
             }
            },
            "header": {
             "fill": {
              "color": "#C8D4E3"
             },
             "line": {
              "color": "white"
             }
            },
            "type": "table"
           }
          ]
         },
         "layout": {
          "annotationdefaults": {
           "arrowcolor": "#2a3f5f",
           "arrowhead": 0,
           "arrowwidth": 1
          },
          "autotypenumbers": "strict",
          "coloraxis": {
           "colorbar": {
            "outlinewidth": 0,
            "ticks": ""
           }
          },
          "colorscale": {
           "diverging": [
            [
             0,
             "#8e0152"
            ],
            [
             0.1,
             "#c51b7d"
            ],
            [
             0.2,
             "#de77ae"
            ],
            [
             0.3,
             "#f1b6da"
            ],
            [
             0.4,
             "#fde0ef"
            ],
            [
             0.5,
             "#f7f7f7"
            ],
            [
             0.6,
             "#e6f5d0"
            ],
            [
             0.7,
             "#b8e186"
            ],
            [
             0.8,
             "#7fbc41"
            ],
            [
             0.9,
             "#4d9221"
            ],
            [
             1,
             "#276419"
            ]
           ],
           "sequential": [
            [
             0,
             "#0d0887"
            ],
            [
             0.1111111111111111,
             "#46039f"
            ],
            [
             0.2222222222222222,
             "#7201a8"
            ],
            [
             0.3333333333333333,
             "#9c179e"
            ],
            [
             0.4444444444444444,
             "#bd3786"
            ],
            [
             0.5555555555555556,
             "#d8576b"
            ],
            [
             0.6666666666666666,
             "#ed7953"
            ],
            [
             0.7777777777777778,
             "#fb9f3a"
            ],
            [
             0.8888888888888888,
             "#fdca26"
            ],
            [
             1,
             "#f0f921"
            ]
           ],
           "sequentialminus": [
            [
             0,
             "#0d0887"
            ],
            [
             0.1111111111111111,
             "#46039f"
            ],
            [
             0.2222222222222222,
             "#7201a8"
            ],
            [
             0.3333333333333333,
             "#9c179e"
            ],
            [
             0.4444444444444444,
             "#bd3786"
            ],
            [
             0.5555555555555556,
             "#d8576b"
            ],
            [
             0.6666666666666666,
             "#ed7953"
            ],
            [
             0.7777777777777778,
             "#fb9f3a"
            ],
            [
             0.8888888888888888,
             "#fdca26"
            ],
            [
             1,
             "#f0f921"
            ]
           ]
          },
          "colorway": [
           "#636efa",
           "#EF553B",
           "#00cc96",
           "#ab63fa",
           "#FFA15A",
           "#19d3f3",
           "#FF6692",
           "#B6E880",
           "#FF97FF",
           "#FECB52"
          ],
          "font": {
           "color": "#2a3f5f"
          },
          "geo": {
           "bgcolor": "white",
           "lakecolor": "white",
           "landcolor": "#E5ECF6",
           "showlakes": true,
           "showland": true,
           "subunitcolor": "white"
          },
          "hoverlabel": {
           "align": "left"
          },
          "hovermode": "closest",
          "mapbox": {
           "style": "light"
          },
          "paper_bgcolor": "white",
          "plot_bgcolor": "#E5ECF6",
          "polar": {
           "angularaxis": {
            "gridcolor": "white",
            "linecolor": "white",
            "ticks": ""
           },
           "bgcolor": "#E5ECF6",
           "radialaxis": {
            "gridcolor": "white",
            "linecolor": "white",
            "ticks": ""
           }
          },
          "scene": {
           "xaxis": {
            "backgroundcolor": "#E5ECF6",
            "gridcolor": "white",
            "gridwidth": 2,
            "linecolor": "white",
            "showbackground": true,
            "ticks": "",
            "zerolinecolor": "white"
           },
           "yaxis": {
            "backgroundcolor": "#E5ECF6",
            "gridcolor": "white",
            "gridwidth": 2,
            "linecolor": "white",
            "showbackground": true,
            "ticks": "",
            "zerolinecolor": "white"
           },
           "zaxis": {
            "backgroundcolor": "#E5ECF6",
            "gridcolor": "white",
            "gridwidth": 2,
            "linecolor": "white",
            "showbackground": true,
            "ticks": "",
            "zerolinecolor": "white"
           }
          },
          "shapedefaults": {
           "line": {
            "color": "#2a3f5f"
           }
          },
          "ternary": {
           "aaxis": {
            "gridcolor": "white",
            "linecolor": "white",
            "ticks": ""
           },
           "baxis": {
            "gridcolor": "white",
            "linecolor": "white",
            "ticks": ""
           },
           "bgcolor": "#E5ECF6",
           "caxis": {
            "gridcolor": "white",
            "linecolor": "white",
            "ticks": ""
           }
          },
          "title": {
           "x": 0.05
          },
          "xaxis": {
           "automargin": true,
           "gridcolor": "white",
           "linecolor": "white",
           "ticks": "",
           "title": {
            "standoff": 15
           },
           "zerolinecolor": "white",
           "zerolinewidth": 2
          },
          "yaxis": {
           "automargin": true,
           "gridcolor": "white",
           "linecolor": "white",
           "ticks": "",
           "title": {
            "standoff": 15
           },
           "zerolinecolor": "white",
           "zerolinewidth": 2
          }
         }
        },
        "xaxis": {
         "title": {
          "text": "Real"
         }
        },
        "yaxis": {
         "scaleanchor": "x",
         "scaleratio": 1,
         "title": {
          "text": "Imaginary"
         }
        }
       }
      }
     },
     "metadata": {},
     "output_type": "display_data"
    }
   ],
   "source": [
    "conj_z1 = np.conj(z1)\n",
    "conj_z2 = np.conj(z2)\n",
    "\n",
    "inv_z1 = 1/z1\n",
    "inv_z2 = 1/z2\n",
    "\n",
    "plot_complex([conj_z1,conj_z2,inv_z1,inv_z2], name=[\"conjugated z1\",\"conjugated z2\", \"inverse z1\", \"inverse z2\"])"
   ]
  },
  {
   "cell_type": "markdown",
   "metadata": {
    "id": "gjPVdnvuKD06"
   },
   "source": [
    "**2. Complex Exponentials**\n",
    "\n",
    "Now let's work with complex exponentials. In python is very easy to work with these type of signals:"
   ]
  },
  {
   "cell_type": "code",
   "execution_count": 18,
   "metadata": {
    "executionInfo": {
     "elapsed": 12,
     "status": "ok",
     "timestamp": 1702317970079,
     "user": {
      "displayName": "PEDRO RAMONEDA FRANCO",
      "userId": "10653804143244385715"
     },
     "user_tz": -60
    },
    "id": "kjkqiEqriy6R"
   },
   "outputs": [],
   "source": [
    "A = 1\n",
    "f0 = 40\n",
    "fs = 44100\n",
    "phi = np.pi/2\n",
    "t = np.arange(0, .1, 1.0/fs)\n",
    "x = A * np.exp(1j*(2*f0*np.pi*t + phi))"
   ]
  },
  {
   "cell_type": "markdown",
   "metadata": {
    "id": "uUmIGLWyi9Wg"
   },
   "source": [
    "Now we can plot the real and imaginary part of this signal:\n"
   ]
  },
  {
   "cell_type": "code",
   "execution_count": 19,
   "metadata": {
    "colab": {
     "base_uri": "https://localhost:8080/",
     "height": 542
    },
    "executionInfo": {
     "elapsed": 1589,
     "status": "ok",
     "timestamp": 1702317971655,
     "user": {
      "displayName": "PEDRO RAMONEDA FRANCO",
      "userId": "10653804143244385715"
     },
     "user_tz": -60
    },
    "id": "3qRWzLQ4i86e",
    "outputId": "74ecce8b-bb7c-4a29-ee26-1b8a35492cfb"
   },
   "outputs": [
    {
     "data": {
      "application/vnd.plotly.v1+json": {
       "config": {
        "linkText": "Export to plot.ly",
        "plotlyServerURL": "https://plot.ly",
        "showLink": false
       },
       "data": [
        {
         "line": {
          "color": "#1f77b4",
          "shape": "linear"
         },
         "mode": "lines",
         "name": "real part",
         "type": "scatter",
         "x": {
          "bdata": "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",
          "dtype": "f8"
         },
         "y": {
          "bdata": "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",
          "dtype": "f8"
         }
        },
        {
         "line": {
          "color": "#ff7f0e",
          "shape": "linear"
         },
         "mode": "lines",
         "name": "imag part",
         "type": "scatter",
         "x": {
          "bdata": "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",
          "dtype": "f8"
         },
         "y": {
          "bdata": "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",
          "dtype": "f8"
         }
        }
       ],
       "layout": {
        "template": {
         "data": {
          "bar": [
           {
            "error_x": {
             "color": "#2a3f5f"
            },
            "error_y": {
             "color": "#2a3f5f"
            },
            "marker": {
             "line": {
              "color": "#E5ECF6",
              "width": 0.5
             },
             "pattern": {
              "fillmode": "overlay",
              "size": 10,
              "solidity": 0.2
             }
            },
            "type": "bar"
           }
          ],
          "barpolar": [
           {
            "marker": {
             "line": {
              "color": "#E5ECF6",
              "width": 0.5
             },
             "pattern": {
              "fillmode": "overlay",
              "size": 10,
              "solidity": 0.2
             }
            },
            "type": "barpolar"
           }
          ],
          "carpet": [
           {
            "aaxis": {
             "endlinecolor": "#2a3f5f",
             "gridcolor": "white",
             "linecolor": "white",
             "minorgridcolor": "white",
             "startlinecolor": "#2a3f5f"
            },
            "baxis": {
             "endlinecolor": "#2a3f5f",
             "gridcolor": "white",
             "linecolor": "white",
             "minorgridcolor": "white",
             "startlinecolor": "#2a3f5f"
            },
            "type": "carpet"
           }
          ],
          "choropleth": [
           {
            "colorbar": {
             "outlinewidth": 0,
             "ticks": ""
            },
            "type": "choropleth"
           }
          ],
          "contour": [
           {
            "colorbar": {
             "outlinewidth": 0,
             "ticks": ""
            },
            "colorscale": [
             [
              0,
              "#0d0887"
             ],
             [
              0.1111111111111111,
              "#46039f"
             ],
             [
              0.2222222222222222,
              "#7201a8"
             ],
             [
              0.3333333333333333,
              "#9c179e"
             ],
             [
              0.4444444444444444,
              "#bd3786"
             ],
             [
              0.5555555555555556,
              "#d8576b"
             ],
             [
              0.6666666666666666,
              "#ed7953"
             ],
             [
              0.7777777777777778,
              "#fb9f3a"
             ],
             [
              0.8888888888888888,
              "#fdca26"
             ],
             [
              1,
              "#f0f921"
             ]
            ],
            "type": "contour"
           }
          ],
          "contourcarpet": [
           {
            "colorbar": {
             "outlinewidth": 0,
             "ticks": ""
            },
            "type": "contourcarpet"
           }
          ],
          "heatmap": [
           {
            "colorbar": {
             "outlinewidth": 0,
             "ticks": ""
            },
            "colorscale": [
             [
              0,
              "#0d0887"
             ],
             [
              0.1111111111111111,
              "#46039f"
             ],
             [
              0.2222222222222222,
              "#7201a8"
             ],
             [
              0.3333333333333333,
              "#9c179e"
             ],
             [
              0.4444444444444444,
              "#bd3786"
             ],
             [
              0.5555555555555556,
              "#d8576b"
             ],
             [
              0.6666666666666666,
              "#ed7953"
             ],
             [
              0.7777777777777778,
              "#fb9f3a"
             ],
             [
              0.8888888888888888,
              "#fdca26"
             ],
             [
              1,
              "#f0f921"
             ]
            ],
            "type": "heatmap"
           }
          ],
          "histogram": [
           {
            "marker": {
             "pattern": {
              "fillmode": "overlay",
              "size": 10,
              "solidity": 0.2
             }
            },
            "type": "histogram"
           }
          ],
          "histogram2d": [
           {
            "colorbar": {
             "outlinewidth": 0,
             "ticks": ""
            },
            "colorscale": [
             [
              0,
              "#0d0887"
             ],
             [
              0.1111111111111111,
              "#46039f"
             ],
             [
              0.2222222222222222,
              "#7201a8"
             ],
             [
              0.3333333333333333,
              "#9c179e"
             ],
             [
              0.4444444444444444,
              "#bd3786"
             ],
             [
              0.5555555555555556,
              "#d8576b"
             ],
             [
              0.6666666666666666,
              "#ed7953"
             ],
             [
              0.7777777777777778,
              "#fb9f3a"
             ],
             [
              0.8888888888888888,
              "#fdca26"
             ],
             [
              1,
              "#f0f921"
             ]
            ],
            "type": "histogram2d"
           }
          ],
          "histogram2dcontour": [
           {
            "colorbar": {
             "outlinewidth": 0,
             "ticks": ""
            },
            "colorscale": [
             [
              0,
              "#0d0887"
             ],
             [
              0.1111111111111111,
              "#46039f"
             ],
             [
              0.2222222222222222,
              "#7201a8"
             ],
             [
              0.3333333333333333,
              "#9c179e"
             ],
             [
              0.4444444444444444,
              "#bd3786"
             ],
             [
              0.5555555555555556,
              "#d8576b"
             ],
             [
              0.6666666666666666,
              "#ed7953"
             ],
             [
              0.7777777777777778,
              "#fb9f3a"
             ],
             [
              0.8888888888888888,
              "#fdca26"
             ],
             [
              1,
              "#f0f921"
             ]
            ],
            "type": "histogram2dcontour"
           }
          ],
          "mesh3d": [
           {
            "colorbar": {
             "outlinewidth": 0,
             "ticks": ""
            },
            "type": "mesh3d"
           }
          ],
          "parcoords": [
           {
            "line": {
             "colorbar": {
              "outlinewidth": 0,
              "ticks": ""
             }
            },
            "type": "parcoords"
           }
          ],
          "pie": [
           {
            "automargin": true,
            "type": "pie"
           }
          ],
          "scatter": [
           {
            "fillpattern": {
             "fillmode": "overlay",
             "size": 10,
             "solidity": 0.2
            },
            "type": "scatter"
           }
          ],
          "scatter3d": [
           {
            "line": {
             "colorbar": {
              "outlinewidth": 0,
              "ticks": ""
             }
            },
            "marker": {
             "colorbar": {
              "outlinewidth": 0,
              "ticks": ""
             }
            },
            "type": "scatter3d"
           }
          ],
          "scattercarpet": [
           {
            "marker": {
             "colorbar": {
              "outlinewidth": 0,
              "ticks": ""
             }
            },
            "type": "scattercarpet"
           }
          ],
          "scattergeo": [
           {
            "marker": {
             "colorbar": {
              "outlinewidth": 0,
              "ticks": ""
             }
            },
            "type": "scattergeo"
           }
          ],
          "scattergl": [
           {
            "marker": {
             "colorbar": {
              "outlinewidth": 0,
              "ticks": ""
             }
            },
            "type": "scattergl"
           }
          ],
          "scattermap": [
           {
            "marker": {
             "colorbar": {
              "outlinewidth": 0,
              "ticks": ""
             }
            },
            "type": "scattermap"
           }
          ],
          "scattermapbox": [
           {
            "marker": {
             "colorbar": {
              "outlinewidth": 0,
              "ticks": ""
             }
            },
            "type": "scattermapbox"
           }
          ],
          "scatterpolar": [
           {
            "marker": {
             "colorbar": {
              "outlinewidth": 0,
              "ticks": ""
             }
            },
            "type": "scatterpolar"
           }
          ],
          "scatterpolargl": [
           {
            "marker": {
             "colorbar": {
              "outlinewidth": 0,
              "ticks": ""
             }
            },
            "type": "scatterpolargl"
           }
          ],
          "scatterternary": [
           {
            "marker": {
             "colorbar": {
              "outlinewidth": 0,
              "ticks": ""
             }
            },
            "type": "scatterternary"
           }
          ],
          "surface": [
           {
            "colorbar": {
             "outlinewidth": 0,
             "ticks": ""
            },
            "colorscale": [
             [
              0,
              "#0d0887"
             ],
             [
              0.1111111111111111,
              "#46039f"
             ],
             [
              0.2222222222222222,
              "#7201a8"
             ],
             [
              0.3333333333333333,
              "#9c179e"
             ],
             [
              0.4444444444444444,
              "#bd3786"
             ],
             [
              0.5555555555555556,
              "#d8576b"
             ],
             [
              0.6666666666666666,
              "#ed7953"
             ],
             [
              0.7777777777777778,
              "#fb9f3a"
             ],
             [
              0.8888888888888888,
              "#fdca26"
             ],
             [
              1,
              "#f0f921"
             ]
            ],
            "type": "surface"
           }
          ],
          "table": [
           {
            "cells": {
             "fill": {
              "color": "#EBF0F8"
             },
             "line": {
              "color": "white"
             }
            },
            "header": {
             "fill": {
              "color": "#C8D4E3"
             },
             "line": {
              "color": "white"
             }
            },
            "type": "table"
           }
          ]
         },
         "layout": {
          "annotationdefaults": {
           "arrowcolor": "#2a3f5f",
           "arrowhead": 0,
           "arrowwidth": 1
          },
          "autotypenumbers": "strict",
          "coloraxis": {
           "colorbar": {
            "outlinewidth": 0,
            "ticks": ""
           }
          },
          "colorscale": {
           "diverging": [
            [
             0,
             "#8e0152"
            ],
            [
             0.1,
             "#c51b7d"
            ],
            [
             0.2,
             "#de77ae"
            ],
            [
             0.3,
             "#f1b6da"
            ],
            [
             0.4,
             "#fde0ef"
            ],
            [
             0.5,
             "#f7f7f7"
            ],
            [
             0.6,
             "#e6f5d0"
            ],
            [
             0.7,
             "#b8e186"
            ],
            [
             0.8,
             "#7fbc41"
            ],
            [
             0.9,
             "#4d9221"
            ],
            [
             1,
             "#276419"
            ]
           ],
           "sequential": [
            [
             0,
             "#0d0887"
            ],
            [
             0.1111111111111111,
             "#46039f"
            ],
            [
             0.2222222222222222,
             "#7201a8"
            ],
            [
             0.3333333333333333,
             "#9c179e"
            ],
            [
             0.4444444444444444,
             "#bd3786"
            ],
            [
             0.5555555555555556,
             "#d8576b"
            ],
            [
             0.6666666666666666,
             "#ed7953"
            ],
            [
             0.7777777777777778,
             "#fb9f3a"
            ],
            [
             0.8888888888888888,
             "#fdca26"
            ],
            [
             1,
             "#f0f921"
            ]
           ],
           "sequentialminus": [
            [
             0,
             "#0d0887"
            ],
            [
             0.1111111111111111,
             "#46039f"
            ],
            [
             0.2222222222222222,
             "#7201a8"
            ],
            [
             0.3333333333333333,
             "#9c179e"
            ],
            [
             0.4444444444444444,
             "#bd3786"
            ],
            [
             0.5555555555555556,
             "#d8576b"
            ],
            [
             0.6666666666666666,
             "#ed7953"
            ],
            [
             0.7777777777777778,
             "#fb9f3a"
            ],
            [
             0.8888888888888888,
             "#fdca26"
            ],
            [
             1,
             "#f0f921"
            ]
           ]
          },
          "colorway": [
           "#636efa",
           "#EF553B",
           "#00cc96",
           "#ab63fa",
           "#FFA15A",
           "#19d3f3",
           "#FF6692",
           "#B6E880",
           "#FF97FF",
           "#FECB52"
          ],
          "font": {
           "color": "#2a3f5f"
          },
          "geo": {
           "bgcolor": "white",
           "lakecolor": "white",
           "landcolor": "#E5ECF6",
           "showlakes": true,
           "showland": true,
           "subunitcolor": "white"
          },
          "hoverlabel": {
           "align": "left"
          },
          "hovermode": "closest",
          "mapbox": {
           "style": "light"
          },
          "paper_bgcolor": "white",
          "plot_bgcolor": "#E5ECF6",
          "polar": {
           "angularaxis": {
            "gridcolor": "white",
            "linecolor": "white",
            "ticks": ""
           },
           "bgcolor": "#E5ECF6",
           "radialaxis": {
            "gridcolor": "white",
            "linecolor": "white",
            "ticks": ""
           }
          },
          "scene": {
           "xaxis": {
            "backgroundcolor": "#E5ECF6",
            "gridcolor": "white",
            "gridwidth": 2,
            "linecolor": "white",
            "showbackground": true,
            "ticks": "",
            "zerolinecolor": "white"
           },
           "yaxis": {
            "backgroundcolor": "#E5ECF6",
            "gridcolor": "white",
            "gridwidth": 2,
            "linecolor": "white",
            "showbackground": true,
            "ticks": "",
            "zerolinecolor": "white"
           },
           "zaxis": {
            "backgroundcolor": "#E5ECF6",
            "gridcolor": "white",
            "gridwidth": 2,
            "linecolor": "white",
            "showbackground": true,
            "ticks": "",
            "zerolinecolor": "white"
           }
          },
          "shapedefaults": {
           "line": {
            "color": "#2a3f5f"
           }
          },
          "ternary": {
           "aaxis": {
            "gridcolor": "white",
            "linecolor": "white",
            "ticks": ""
           },
           "baxis": {
            "gridcolor": "white",
            "linecolor": "white",
            "ticks": ""
           },
           "bgcolor": "#E5ECF6",
           "caxis": {
            "gridcolor": "white",
            "linecolor": "white",
            "ticks": ""
           }
          },
          "title": {
           "x": 0.05
          },
          "xaxis": {
           "automargin": true,
           "gridcolor": "white",
           "linecolor": "white",
           "ticks": "",
           "title": {
            "standoff": 15
           },
           "zerolinecolor": "white",
           "zerolinewidth": 2
          },
          "yaxis": {
           "automargin": true,
           "gridcolor": "white",
           "linecolor": "white",
           "ticks": "",
           "title": {
            "standoff": 15
           },
           "zerolinecolor": "white",
           "zerolinewidth": 2
          }
         }
        }
       }
      }
     },
     "metadata": {},
     "output_type": "display_data"
    }
   ],
   "source": [
    "plot_signals([np.real(x), np.imag(x)], fs, name=['real part', 'imag part'])"
   ]
  },
  {
   "cell_type": "markdown",
   "metadata": {
    "id": "WbmSTmpIkU9B"
   },
   "source": [
    "2.1. Define a complex exponential with the same parameters that those from Lab 1 (Ex 3.1) and plot the real part."
   ]
  },
  {
   "cell_type": "code",
   "execution_count": null,
   "metadata": {
    "executionInfo": {
     "elapsed": 14,
     "status": "ok",
     "timestamp": 1702317971656,
     "user": {
      "displayName": "PEDRO RAMONEDA FRANCO",
      "userId": "10653804143244385715"
     },
     "user_tz": -60
    },
    "id": "o3o5lc6WkTId"
   },
   "outputs": [
    {
     "data": {
      "image/png": "[encoded data removed]",
      "text/plain": [
       "<Figure size 640x480 with 1 Axes>"
      ]
     },
     "metadata": {},
     "output_type": "display_data"
    }
   ],
   "source": [
    "import matplotlib.pyplot as plt #llibreria per fer el plot\n",
    "\n",
    "fs = 44100\n",
    "f = 78.3\n",
    "T = 0.012245 \n",
    "t = np.arange(0, 10*T, 1/fs) # crear el vector temps per fer el plot\n",
    "A = 0.6\n",
    "phi = 7*np.pi/6\n",
    "\n",
    "ce = A*np.exp(1j*(2*np.pi*f*t + phi))\n",
    "real_ce = np.real(ce)\n",
    "\n",
    "plt.plot(t, np.real(ce)) # fer el plot del real de ce respecte el temps\n",
    "plt.xlabel(\"Temps [s]\") # llegenda eix x\n",
    "plt.ylabel(\"Amplitud\") # llegenda eix y\n",
    "plt.title(\"Part real del complex exponencial\") # titol\n",
    "plt.grid(True) # posa graella (quadradets)\n",
    "plt.show() # mostra el plot"
   ]
  },
  {
   "cell_type": "markdown",
   "metadata": {
    "id": "bU3RpE-gxOtj"
   },
   "source": [
    "**3. Harmonic signals**\n",
    "\n",
    "Now, we will work with harmonic signals. Until now, we have been working with simple sinusoids signals but most musical instruments sounds are harmonic. This means that they are formed by a sinusoid of the fundamental frequency plus sinusoids with frequencies multiples of it. For instance, we can define the following signal formed by the fundamental frequency plus the second and the third harmonic (note that each wave has a different phase).\n",
    "\n"
   ]
  },
  {
   "cell_type": "code",
   "execution_count": null,
   "metadata": {
    "colab": {
     "base_uri": "https://localhost:8080/",
     "height": 542
    },
    "executionInfo": {
     "elapsed": 15,
     "status": "ok",
     "timestamp": 1702317971657,
     "user": {
      "displayName": "PEDRO RAMONEDA FRANCO",
      "userId": "10653804143244385715"
     },
     "user_tz": -60
    },
    "id": "eDMUef8nyASj",
    "outputId": "193d2764-c8db-4699-ea06-163398174c35"
   },
   "outputs": [
    {
     "data": {
      "image/png": "[encoded data removed]",
      "text/plain": [
       "<Figure size 640x480 with 1 Axes>"
      ]
     },
     "metadata": {},
     "output_type": "display_data"
    }
   ],
   "source": [
    "\n",
    "A2 = 0.5\n",
    "A3 = 0.3\n",
    "phi2 = phi + np.pi/4\n",
    "phi3 = phi - np.pi/3  \n",
    "\n",
    "t = np.arange(0, 0.02, 1/fs)   # 20 ms\n",
    "\n",
    "y = (A*np.cos(2*np.pi*f0*t + phi) + A2*np.cos(2*np.pi*2*f0*t + phi2) + A3*np.cos(2*np.pi*3*f0*t + phi3))\n",
    "\n",
    "plt.plot(t, y)\n",
    "plt.tite(\"Senyal harmonica\")\n",
    "plt.xlabel(\"Temps [s]\")\n",
    "plt.ylabel(\"Amplitud\")\n",
    "plt.grid(True)\n",
    "plt.show()"
   ]
  },
  {
   "cell_type": "markdown",
   "metadata": {
    "id": "33AJ43U-yuv6"
   },
   "source": [
    "3.1. Load your reference audio signal and plot some periods (5-10) where the amplitude is stable. For instance see Ex. 2.3 from Lab 1."
   ]
  },
  {
   "cell_type": "code",
   "execution_count": 37,
   "metadata": {
    "executionInfo": {
     "elapsed": 13,
     "status": "ok",
     "timestamp": 1702317971657,
     "user": {
      "displayName": "PEDRO RAMONEDA FRANCO",
      "userId": "10653804143244385715"
     },
     "user_tz": -60
    },
    "id": "KRd70D8Ayt26"
   },
   "outputs": [
    {
     "data": {
      "application/vnd.plotly.v1+json": {
       "config": {
        "linkText": "Export to plot.ly",
        "plotlyServerURL": "https://plot.ly",
        "showLink": false
       },
       "data": [
        {
         "line": {
          "color": "#1f77b4",
          "shape": "linear"
         },
         "mode": "lines",
         "name": "audio signal 0",
         "type": "scatter",
         "x": {
          "bdata": "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",
          "dtype": "f8"
         },
         "y": {
          "bdata": "9HpDvT+O0D/0ekO9vwHQP+j1hnp//M4/6PWGen8Lzj/o9YZ6fzLNP+j1hnp/ZMw/6PWGen+4yz/o9YZ6fwrLP+j1hnp/c8o/6PWGen/YyT/o9YZ6fx/JP+j1hnp/ecg/6PWGen+8xz/o9YZ6f+XGP+j1hnp//cU/6PWGen8qxT/o9YZ6f0DEP+j1hnp/dMM/6PWGen+qwj/o9YZ6f/PBP+j1hnp/YcE/6PWGen/WwD/o9YZ6f2XAP8/rDfX+4r8/z+sN9f4+vz/P6w31/qC+P8/rDfX+Mr4/z+sN9f6QvT/P6w31/iK9P8/rDfX+Yrw/z+sN9f54uz/P6w31/ky6P8/rDfX+FLk/z+sN9f6ctz/P6w31/ia2P8/rDfX+dLQ/z+sN9f4Osz/P6w31/mqxP8/rDfX+KrA/ntcb6v3xrT+e1xvq/SWsP57XG+r9uao/ntcb6v2dqT+e1xvq/aGoP57XG+r95ac/ntcb6v1hpz+e1xvq/fmmP57XG+r9PaY/ntcb6v2ppT+e1xvq/W2kP57XG+r9WaM/ntcb6v3BoT+e1xvq/U2gPzyvN9T7+5w/PK831Pszmj88rzfU+zOXPzyvN9T7C5U/PK831Puzkj88rzfU+3ORPzyvN9T7A5A/eV5vqPe3jj95Xm+o99eNP3leb6j3Z4w/eV5vqPdHij95Xm+o9weHP3leb6j3t4U/8rzeUO9Pfz/yvN5Q7y91P4/n9YZ6f0w/DkMhrxAQcL+HoZBXCBiCv4ehkFcIuI2/xFDIKwR0k7/EUMgrBOSXv8RQyCsErJu/xFDIKwQ8nr9iKOQVAmagv2Io5BUC5qC/YijkFQJqob9iKOQVAkKhv2Io5BUC1qC/YijkFQJaoL9iKOQVAhKgv8RQyCsE1J6/xFDIKwQUn7/EUMgrBByfv8RQyCsE5J+/YijkFQKuoL9iKOQVAqahv2Io5BUCCqO/YijkFQJapL9iKOQVAkqmv2Io5BUCxqe/YijkFQJOqb9iKOQVAraqv2Io5BUC9qu/YijkFQK+rL9iKOQVAlatv2Io5BUC9q2/YijkFQLurb9iKOQVAkKuv2Io5BUCYq6/YijkFQKerr9iKOQVAsquv2Io5BUCPq+/YijkFQJ6r78xFPIKARmwvzEU8goBqbC/MRTyCgErsb8xFPIKAbmxvzEU8goBdbK/MRTyCgEjs78xFPIKAeezvzEU8goBtbS/MRTyCgGRtb8xFPIKAV+2vzEU8goB67a/MRTyCgGVt78xFPIKAf23vzEU8goBR7i/MRTyCgFjuL8xFPIKAWu4vzEU8goBnbi/MRTyCgG5uL8xFPIKAem4vzEU8goBH7m/MRTyCgGPub8xFPIKAVu6vzEU8goBObu/MRTyCgFrvL8xFPIKAbe9vzEU8goBD7+/GAp5hYAvwL8YCnmFgNvAvxgKeYWAc8G/GAp5hYD6wb8YCnmFgFbCvxgKeYWAmcK/GAp5hYC1wr8YCnmFgNvCvxgKeYWAAMO/GAp5hYAfw78YCnmFgDbDvxgKeYWAXcO/GAp5hYB9w78YCnmFgMDDvxgKeYWAFcS/GAp5hYCFxL8YCnmFgAbFvxgKeYWAcsW/GAp5hYDhxb8YCnmFgEfGvxgKeYWAjsa/GAp5hYDixr8YCnmFgOPGvxgKeYWA88a/GAp5hYDpxr8YCnmFgMHGvxgKeYWAk8a/GAp5hYBqxr8YCnmFgEDGvxgKeYWAAMa/GAp5hYD0xb8YCnmFgM/FvxgKeYWA08W/GAp5hYDkxb8YCnmFgPHFvxgKeYWAB8a/GAp5hYD9xb8YCnmFgBPGvxgKeYWA+cW/GAp5hYDUxb8YCnmFgI/FvxgKeYWAI8W/GAp5hYCrxL8YCnmFgPvDvxgKeYWAKsO/GAp5hYBQwr8YCnmFgHDBvxgKeYWAfcC/MRTyCgEXv78xFPIKAUW9vzEU8goBhbu/MRTyCgELur8xFPIKAWu4vzEU8goBAbe/MRTyCgGjtb8xFPIKASe0vzEU8goBfbK/MRTyCgH1sL9iKOQVAuqtv2Io5BUCDqq/YijkFQKOpb9iKOQVAmKhv8RQyCsELJm/xFDIKwQ0kL8OQyGvEJB8v4/n9YZ6f0Y/eV5vqPc3gT95Xm+o9wePPzyvN9T7G5Y/PK831Ptjmz+e1xvq/XWgP57XG+r9TaI/ntcb6v1NpD+e1xvq/d2lP57XG+r9nac/ntcb6v2BqT+e1xvq/VGrP57XG+r9fa0/ntcb6v1drz/P6w31/sSwP8/rDfX+rLE/z+sN9f6+sj/P6w31/pCzP8/rDfX+XrQ/z+sN9f4QtT/P6w31/qK1P8/rDfX+LrY/z+sN9f5atj/P6w31/ly2P8/rDfX+LLY/z+sN9f7MtT/P6w31/my1P8/rDfX+DLU/z+sN9f58tD/P6w31/gq0P8/rDfX+mLM/z+sN9f4qsz/P6w31/tqyP8/rDfX+lLI/z+sN9f5Wsj/P6w31/iSyP8/rDfX+KLI/z+sN9f4Wsj/P6w31/hayP8/rDfX+JrI/z+sN9f4Ssj/P6w31/v6xP8/rDfX+hrE/z+sN9f5MsT/P6w31/r6wP8/rDfX+NLA/ntcb6v1Brz+e1xvq/fGtP57XG+r92aw/ntcb6v3dqz+e1xvq/VWrP57XG+r9qao/ntcb6v2Bqj+e1xvq/f2pP57XG+r9kao/ntcb6v3Vqj+e1xvq/RWsP57XG+r9Ca0/ntcb6v2Nrj+e1xvq/fWvP8/rDfX+uLA/z+sN9f6CsT/P6w31/jyyP8/rDfX+xrI/z+sN9f6Msz/P6w31/ii0P8/rDfX+BLU/z+sN9f7StT/P6w31/sq2P8/rDfX+5rc/z+sN9f4cuT/P6w31/mi6P8/rDfX+7rs/z+sN9f6wvT/P6w31/pa/P+j1hnp/yMA/6PWGen/NwT/o9YZ6f7bCP+j1hnp/u8M/6PWGen+nxD/o9YZ6f5vFP+j1hnp/dsY/6PWGen9Pxz/o9YZ6fyPIP+j1hnp/z8g/6PWGen+LyT/o9YZ6fyzKP+j1hnp/xMo/6PWGen9Uyz/o9YZ6f9fLP+j1hnp/Rcw/6PWGen/VzD/o9YZ6fzPNP+j1hnp/ns0/6PWGen8Gzj/o9YZ6f2TOP+j1hnp/pM4/6PWGen/Yzj/o9YZ6f+HOP+j1hnp/AM8/6PWGen8Jzz/o9YZ6fw7PP+j1hnp/8s4/6PWGen/Gzj/o9YZ6f5XOP+j1hnp/T84/6PWGen/OzT/o9YZ6f0LNP+j1hnp/k8w/6PWGen+/yz/o9YZ6f9TKP+j1hnp/xsk/6PWGen+1yD/o9YZ6f3zHP+j1hnp/UcY/6PWGen/uxD/o9YZ6f6TDP+j1hnp/KsI/6PWGen/OwD/P6w31/nq+P8/rDfX+brs/z+sN9f5YuD/P6w31/h61P8/rDfX+LrI/ntcb6v2ZrT+e1xvq/UWnP57XG+r9eaA/PK831Puzkz/yvN5Q7097Pw5DIa8QcHq/xFDIKwS0k79iKOQVAsqgv2Io5BUC8qe/YijkFQImr78xFPIKAU2zvzEU8goB1ba/MRTyCgGJur8xFPIKATe+vxgKeYWACsG/GAp5hYDbwr8YCnmFgLrEvxgKeYWAgMa/GAp5hYBVyL8YCnmFgB7KvxgKeYWA3Mu/GAp5hYCVzb8YCnmFgErPvwyFvEJAfNC/DIW8QsBK0b8MhbxCwAzSvwyFvEJA1dK/DIW8QkCE078MhbxCwDXUvwyFvEJAztS/DIW8QsBl1b8MhbxCwO7VvwyFvEJAZNa/DIW8QsDi1r8MhbxCQDzXvwyFvEJAl9e/DIW8QkDi178MhbxCwB7YvwyFvELARNi/DIW8QkBs2L8MhbxCQI7YvwyFvELApNi/DIW8QkC62L8MhbxCQL/YvwyFvEJAzNi/DIW8QsDN2L8MhbxCwNHYvwyFvEJAzNi/DIW8QsC92L8MhbxCQKzYvwyFvELAkti/DIW8QkCC2L8MhbxCwGTYvwyFvEJAWdi/DIW8QsA82L8MhbxCQCbYvwyFvELAE9i/DIW8QsD8178MhbxCQO3XvwyFvELAyte/DIW8QkCh178MhbxCQGLXvwyFvEJAMNe/DIW8QkDz1r8MhbxCwKzWvwyFvELAata/DIW8QsAb1r8MhbxCwNXVvwyFvEJAiNW/DIW8QkA91b8MhbxCQPjUvwyFvELAqNS/DIW8QsBj1L8MhbxCwBHUvwyFvELAzNO/DIW8QsCG078MhbxCQDLTvwyFvEJA69K/DIW8QsCc0r8MhbxCwFzSvwyFvELABdK/DIW8QsDA0b8MhbxCwG/RvwyFvELAI9G/DIW8QsDb0L8MhbxCQI/QvwyFvELAPtC/GAp5hYDpz78YCnmFgEzPvxgKeYWAvc6/GAp5hYAszr8YCnmFgKjNvxgKeYWAKc2/GAp5hYC2zL8YCnmFgD3MvxgKeYWAzMu/GAp5hYBgy78YCnmFgNrKvxgKeYWAbsq/GAp5hYDxyb8YCnmFgIvJvxgKeYWAGsm/GAp5hYCdyL8YCnmFgD3IvxgKeYWArce/GAp5hYAux78YCnmFgI7GvxgKeYWACMa/GAp5hYBgxb8YCnmFgNTEvxgKeYWAO8S/GAp5hYC0w78YCnmFgDHDvxgKeYWApsK/GAp5hYARwr8YCnmFgIPBvxgKeYWA4MC/GAp5hYBPwL8xFPIKAXW/vzEU8goBLb6/MRTyCgHJvL8xFPIKAXu7vzEU8goBKbq/MRTyCgFhuL8xFPIKAbm2vzEU8goBDbW/MRTyCgFXs78xFPIKAUuxv2Io5BUCzq6/YijkFQJGqr9iKOQVAkKmv2Io5BUCcqG/xFDIKwQ0mr/EUMgrBGSQvw5DIa8QEHy/5Hm9od5fZD95Xm+o98eIPzyvN9T7I5Y/PK831Pujnz+e1xvq/d2kP57XG+r97ak/ntcb6v0Jrz/P6w31/vyxP8/rDfX+hLQ/z+sN9f4Wtz/P6w31/n65P8/rDfX+BLw/z+sN9f42vj/o9YZ6fzvAP+j1hnp/UsE/6PWGen+awj/o9YZ6f8rDP+j1hnp/7cQ/6PWGen8Pxj/o9YZ6fznHP+j1hnp/ZMg/6PWGen+XyT/o9YZ6f7vKP+j1hnp/1Ms/6PWGen/XzD/o9YZ6f+jNP+j1hnp/Bs8/9HpDvb8I0D/0ekO9v4nQP/R6Q70/FNE/9HpDvT+L0T/0ekO9vw/SP/R6Q70/j9I/9HpDvT8M0z/0ekO9P4jTP/R6Q70/89M/9HpDvb9k1D/0ekO9P9LUP/R6Q70/OdU/9HpDvT+i1T/0ekO9P/fVP/R6Q70/StY/9HpDvb+Q1j/0ekO9P+DWP/R6Q70/Ldc/9HpDvT9x1z/0ekO9v6/XP/R6Q70/59c/9HpDvT8V2D/0ekO9v0jYP/R6Q70/atg/9HpDvT+Q2D/0ekO9P5rYP/R6Q72/rNg/9HpDvb+a2D/0ekO9P43YP/R6Q70/adg/9HpDvb9H2D/0ekO9vxzYP/R6Q70/69c/9HpDvb+41z/0ekO9P4/XP/R6Q72/bNc/9HpDvb9I1z/0ekO9vzXXP/R6Q72/I9c/9HpDvb8S1z/0ekO9PwDXP/R6Q70/2tY/9HpDvT+v1j/0ekO9v23WP/R6Q70/LtY/9HpDvT/Y1T/0ekO9P3zVP/R6Q72/DtU/9HpDvb+a1D/0ekO9Py7UP/R6Q72/udM/9HpDvT9H0z/0ekO9v9HSP/R6Q70/aNI/9HpDvT8B0j/0ekO9v63RP/R6Q70/SdE/9HpDvb//0D/0ekO9P6TQP/R6Q72/UtA/6PWGen/fzz/o9YZ6fx3PP+j1hnp/Qs4/6PWGen9ozT/o9YZ6f3/MP+j1hnp/gss/6PWGen+lyj/o9YZ6f7rJP+j1hnp/yMg/6PWGen/1xz/o9YZ6fzLHP+j1hnp/jMY/6PWGen8Gxj/o9YZ6f6LFP+j1hnp/OcU/6PWGen8AxT/o9YZ6f5zEP+j1hnp/UMQ/6PWGen/hwz/o9YZ6f3bDP+j1hnp/88I/6PWGen9lwj/o9YZ6f7nBP+j1hnp/GME/6PWGen9EwD/P6w31/u6+P8/rDfX+Rr0/z+sN9f7Uuz/P6w31/mq6P8/rDfX+LLk/z+sN9f4auD/P6w31/gy3P8/rDfX+XrY/z+sN9f6utT/P6w31/h61P8/rDfX+kLQ/z+sN9f74sz/P6w31/kCzP8/rDfX+ZrI/z+sN9f5gsT/P6w31/nSwP57XG+r9ya4/ntcb6v3prD+e1xvq/dWqP57XG+r99ag/ntcb6v01pz+e1xvq/emlP57XG+r9uaQ/ntcb6v0xpD+e1xvq/Z2jP57XG+r9TaM/ntcb6v1Boz+e1xvq/c2iP57XG+r9ZaI/ntcb6v3RoT+e1xvq/eWgPzyvN9T7i58/PK831PsbnD88rzfU+0uYPzyvN9T7s5M/eV5vqPd3jj95Xm+o9+eDP/K83lDvr3I/cRgKeYWASb8OQyGvEJB2v4ehkFcIaIS/h6GQVwiYi7/EUMgrBJyQv8RQyCsEfJK/xFDIKwTUk7/EUMgrBEyUv8RQyCsERJW/xFDIKwSklb/EUMgrBKSWv8RQyCsEPJe/xFDIKwRMmL/EUMgrBKyZv8RQyCsERJu/xFDIKwQ0nb/EUMgrBHSfv2Io5BUCbqG/YijkFQLior9iKOQVAmKkv2Io5BUC+qW/YijkFQJ2p79iKOQVAsaov2Io5BUCPqq/YijkFQJmq79iKOQVAo6sv2Io5BUClq2/YijkFQJCrr9iKOQVAiavv2Io5BUCnq+/YijkFQLWr78xFPIKARmwvzEU8goBXbC/MRTyCgGTsL8xFPIKATOxvzEU8goBobG/MRTyCgF3sr8xFPIKAUGzvzEU8goBP7S/MRTyCgFFtb8xFPIKATW2vzEU8goBK7e/MRTyCgEduL8xFPIKAcW4vzEU8goBa7m/MRTyCgHJub8xFPIKARG6vzEU8goBWbq/MRTyCgFbur8xFPIKAYm6vzEU8goBsbq/MRTyCgHRur8xFPIKAS+7vzEU8goB37u/MRTyCgHNvL8xFPIKAce9vzEU8goB776/GAp5hYAbwL8YCnmFgMDAvxgKeYWAX8G/GAp5hYD+wb8YCnmFgHrCvxgKeYWA58K/GAp5hYA3w78YCnmFgI3DvxgKeYWAwsO/GAp5hYD0w78YCnmFgBnEvxgKeYWARMS/GAp5hYBlxL8YCnmFgJfEvxgKeYWA68S/GAp5hYBGxb8YCnmFgLnFvxgKeYWAN8a/GAp5hYCtxr8YCnmFgC7HvxgKeYWAq8e/GAp5hYAhyL8YCnmFgHnIvxgKeYWA38i/GAp5hYAjyb8YCnmFgErJvxgKeYWARcm/GAp5hYBSyb8YCnmFgDLJvxgKeYWAIMm/GAp5hYDyyL8YCnmFgNTIvxgKeYWAwsi/GAp5hYDRyL8YCnmFgOXIvxgKeYWABcm/GAp5hYAryb8YCnmFgGLJvxgKeYWAgcm/GAp5hYCuyb8YCnmFgLjJvxgKeYWAvMm/GAp5hYCZyb8YCnmFgF/JvxgKeYWABcm/GAp5hYCXyL8YCnmFgALIvxgKeYWAZMe/GAp5hYCvxr8YCnmFgAvGvxgKeYWAVMW/GAp5hYCvxL8YCnmFgP7DvxgKeYWAaMO/GAp5hYDOwr8YCnmFgDrCvxgKeYWAj8G/GAp5hYDawL8xFPIKAfO/vzEU8goBPb6/MRTyCgFPvL8xFPIKASu6vzEU8goB9be/MRTyCgGbtb8xFPIKATuzvzEU8goBy7C/YijkFQK6rL9iKOQVAjKov2Io5BUCuqO/xFDIKwSEn7/EUMgrBOSXv8RQyCsE7JC/h6GQVwiohr8OQyGvENB1v8RhKOQVAia/8rzeUO/Pdj95Xm+o98eGPzyvN9T7i5A/PK831PvDlT88rzfU+wubP57XG+r9NaA/ntcb6v0Noz+e1xvq/RGmP57XG+r9+ag/ntcb6v3Fqz+e1xvq/VGuP8/rDfX+SLA/z+sN9f5esT/P6w31/lKyP8/rDfX+ArM/z+sN9f6Asz/P6w31/vizP8/rDfX+MLQ/z+sN9f5ctD/P6w31/jq0P8/rDfX+FLQ/z+sN9f66sz/P6w31/oizP8/rDfX+QrM/z+sN9f5Ssz/P6w31/hyzP8/rDfX+JrM/z+sN9f4usz/P6w31/lKzP8/rDfX+dLM/z+sN9f6gsz/P6w31/p6zP8/rDfX+urM/z+sN9f6Wsz/P6w31/mSzP8/rDfX+QrM/z+sN9f7ysj/P6w31/oayP8/rDfX+/rE/z+sN9f5ssT/P6w31/sywP8/rDfX+IrA/ntcb6v0Vrz+e1xvq/VWuP57XG+r9wa0/ntcb6v09rT+e1xvq/Q2tP57XG+r9Ma0/ntcb6v2ZrT+e1xvq/YmtP57XG+r97a0/ntcb6v1Rrj+e1xvq/fWuP57XG+r9ia8/z+sN9f4wsD/P6w31/mCwP8/rDfX+urA/z+sN9f4MsT/P6w31/l6xP8/rDfX+0LE/z+sN9f5Qsj/P6w31/t6yP8/rDfX+0rM/z+sN9f7StD/P6w31/gy2P8/rDfX+Vrc/z+sN9f64uD/P6w31/h66P8/rDfX+oLs/z+sN9f5cvT/P6w31/h6/P+j1hnp/csA/6PWGen9OwT/o9YZ6fyPCP+j1hnp/7sI/6PWGen+uwz/o9YZ6f4XEP+j1hnp/QsU/6PWGen8Kxj/o9YZ6f8jGP+j1hnp/i8c/6PWGen84yD/o9YZ6f9zIP+j1hnp/isk/6PWGen8Xyj/o9YZ6f6fKP+j1hnp/G8s/6PWGen+byz/o9YZ6fwTMP+j1hnp/b8w/6PWGen/ozD/o9YZ6f1/NP+j1hnp/w80/6PWGen8Xzj/o9YZ6f1DOP+j1hnp/fs4/6PWGen+bzj/o9YZ6f63OP+j1hnp/ps4/6PWGen91zj/o9YZ6f1nOP+j1hnp//80/6PWGen+YzT/o9YZ6fxnNP+j1hnp/bsw/6PWGen/Lyz/o9YZ6f+3KP+j1hnp/EMo/6PWGen8UyT/o9YZ6fxvIP+j1hnp/6MY/6PWGen/LxT/o9YZ6f3TEP+j1hnp/PMM/6PWGen/iwT/o9YZ6f4zAP8/rDfX+NL4/z+sN9f5iuz/P6w31/nK4P8/rDfX+nLU/z+sN9f6asj+e1xvq/SWvP57XG+r98ag/ntcb6v1Voj88rzfU+5uXP3leb6j3V4Y/OQyFvELAW7+HoZBXCOiOv8RQyCsEvJy/YijkFQJGpb9iKOQVAj6svzEU8goBf7G/MRTyCgEPtb8xFPIKAWm4vzEU8goB2bu/MRTyCgEpv78YCnmFgEfBvxgKeYWA78K/GAp5hYCsxL8YCnmFgGHGvxgKeYWAIci/GAp5hYDRyb8YCnmFgITLvxgKeYWAKc2/GAp5hYC+zr8MhbxCQCbQvwyFvEJA3NC/DIW8QsCG0b8MhbxCwC7SvwyFvELAxNK/DIW8QkBR078MhbxCwN3TvwyFvELAVNS/DIW8QsDJ1L8MhbxCwCHVvwyFvELAf9W/DIW8QsDL1b8MhbxCQAnWvwyFvELAPda/DIW8QsBW1r8MhbxCwHrWvwyFvELAf9a/DIW8QkCT1r8MhbxCQJbWvwyFvEJAlNa/DIW8QsCW1r8MhbxCwJbWvwyFvELAmNa/DIW8QsCW1r8MhbxCwJbWvwyFvELAkNa/DIW8QkCF1r8MhbxCwHrWvwyFvELAcNa/DIW8QsBi1r8MhbxCQE7WvwyFvEJANda/DIW8QkAX1r8MhbxCQPjVvwyFvELA19W/DIW8QkCg1b8MhbxCQHDVvwyFvELAM9W/DIW8QkD+1L8MhbxCwLbUvwyFvELAgdS/DIW8QsA81L8MhbxCwP/TvwyFvELAvdO/DIW8QkB4078MhbxCQD/TvwyFvELA99K/DIW8QkCy0r8MhbxCwGnSvwyFvEJAINK/DIW8QkDk0b8MhbxCwJHRvwyFvEJAUtG/DIW8QsAK0b8MhbxCwMrQvwyFvEJAhNC/DIW8QsA90L8YCnmFgPDPvxgKeYWAVc+/GAp5hYDEzr8YCnmFgDjOvxgKeYWAtc2/GAp5hYA4zb8YCnmFgKfMvxgKeYWANsy/GAp5hYC9y78YCnmFgFjLvxgKeYWA8sq/GAp5hYCeyr8YCnmFgD/KvxgKeYWA6cm/GAp5hYCOyb8YCnmFgC7JvxgKeYWA1ci/GAp5hYBgyL8YCnmFgAvIvxgKeYWAj8e/GAp5hYA4x78YCnmFgMvGvxgKeYWAVsa/GAp5hYD1xb8YCnmFgHzFvxgKeYWADsW/GAp5hYCixL8YCnmFgCLEvxgKeYWAzcO/GAp5hYBSw78YCnmFgPfCvxgKeYWAkcK/GAp5hYA9wr8YCnmFgMHBvxgKeYWAVsG/GAp5hYDUwL8YCnmFgFrAvzEU8goBy7+/MRTyCgGpvr8xFPIKAWu9vzEU8goBJby/MRTyCgHVur8xFPIKAV+5vzEU8goB0be/MRTyCgF1tr8xFPIKAbe0vzEU8goBw7K/MRTyCgHzsL9iKOQVAuatv2Io5BUC4qm/YijkFQLGpb9iKOQVApahv8RQyCsEVJq/xFDIKwRckb+HoZBXCPiAvzye1xvq/SU/eV5vqPe3gj88rzfU+/uRPzyvN9T7O5s/ntcb6v1Noj+e1xvq/Z2mP57XG+r9Oas/ntcb6v2hrz/P6w31/jKyP8/rDfX+ZLQ/z+sN9f7Qtj/P6w31/vi4P8/rDfX+GLs/z+sN9f4+vT/P6w31/oC/P+j1hnp/78A/6PWGen/4wT/o9YZ6fyDDP+j1hnp/IsQ/6PWGen84xT/o9YZ6f0jGP+j1hnp/Ycc/6PWGen9eyD/o9YZ6f2LJP+j1hnp/bco/6PWGen+Xyz/o9YZ6f6PMP+j1hnp/ys0/6PWGen/lzj/o9YZ6f+3PP/R6Q70/etA/9HpDvT/y0D/0ekO9v27RP/R6Q72/ytE/9HpDvb8+0j/0ekO9P5zSP/R6Q70/BtM/9HpDvT9r0z/0ekO9P9PTP/R6Q72/O9Q/9HpDvb+Y1D/0ekO9v/fUP/R6Q72/VtU/9HpDvb+51T/0ekO9vwXWP/R6Q70/T9Y/9HpDvb951j/0ekO9v6HWP/R6Q70/r9Y/9HpDvT/A1j/0ekO9v7rWP/R6Q70/vdY/9HpDvb+z1j/0ekO9v6XWP/R6Q72/l9Y/9HpDvT+f1j/0ekO9P5bWP/R6Q70/ntY/9HpDvT+Y1j/0ekO9P57WP/R6Q72/ndY/9HpDvT+P1j/0ekO9v4zWP/R6Q72/edY/9HpDvT9g1j/0ekO9vy7WP/R6Q70/AtY/9HpDvb+81T/0ekO9v2vVP/R6Q70/FdU/9HpDvT+/1D/0ekO9v2fUP/R6Q70/F9Q/9HpDvb+00z/0ekO9v2jTP/R6Q72/FNM/9HpDvb/T0j/0ekO9P4rSP/R6Q70/QdI/9HpDvb/70T/0ekO9P6rRP/R6Q70/VtE/9HpDvT/90D/0ekO9P5jQP/R6Q70/MtA/6PWGen9Uzz/o9YZ6f3LOP+j1hnp/Ys0/6PWGen9jzD/o9YZ6f33LP+j1hnp/nco/6PWGen/XyT/o9YZ6fzfJP+j1hnp/r8g/6PWGen8oyD/o9YZ6f7XHP+j1hnp/WMc/6PWGen/9xj/o9YZ6f4nGP+j1hnp/ScY/6PWGen/OxT/o9YZ6f2DFP+j1hnp/wMQ/6PWGen8axD/o9YZ6f1TDP+j1hnp/qcI/6PWGen/qwT/o9YZ6fzLBP+j1hnp/hcA/z+sN9f7Ovz/P6w31/qi+P8/rDfX+jL0/z+sN9f60vD/P6w31/sq7P8/rDfX+BLs/z+sN9f44uj/P6w31/my5P8/rDfX+eLg/z+sN9f6Qtz/P6w31/oK2P8/rDfX+bLU/z+sN9f46tD/P6w31/g6zP8/rDfX+zLE/z+sN9f6KsD+e1xvq/dmuP57XG+r9+aw/ntcb6v2Rqz+e1xvq/TWqP57XG+r99ag/ntcb6v2RqD+e1xvq/dGnP57XG+r91ac/ntcb6v2dpz+e1xvq/W2nP57XG+r9Eac/ntcb6v2Npj+e1xvq/bWlP57XG+r9IaQ/ntcb6v2Zoj+e1xvq/UmgPzyvN9T7q5w/PK831Ps7mD88rzfU+9uSP3leb6j3V4w/eV5vqPdHgj/yvN5Q7y91P8fzekO9v1E/OQyFvELAX78OQyGvEHB1v4ehkFcIqIG/h6GQVwgIhr+HoZBXCNiJv4ehkFcICI2/h6GQVwhYj7/EUMgrBEyQv8RQyCsE7JC/xFDIKwQckr/EUMgrBJSTv8RQyCsEDJW/xFDIKwQsl7/EUMgrBDyZv8RQyCsEdJy/xFDIKwSUn79iKOQVAnqhv2Io5BUCgqO/YijkFQIWpb9iKOQVAramv2Io5BUCBqi/YijkFQIKqb9iKOQVAsapv2Io5BUCkqq/YijkFQIqq79iKOQVAl6rv2Io5BUClqu/YijkFQLuq79iKOQVAiKsv2Io5BUCwqy/YijkFQKGrb9iKOQVAqquvzEU8goBC7C/MRTyCgHzsL8xFPIKAeOxvzEU8goB/bK/MRTyCgH9s78xFPIKAfW0vzEU8goBy7W/MRTyCgFrtr8xFPIKAfO2vzEU8goBRbe/MRTyCgFzt78xFPIKAVW3vzEU8goBg7e/MRTyCgF1t78xFPIKAbG3vzEU8goBBbi/MRTyCgFluL8xFPIKAQ+5vzEU8goBr7m/MRTyCgG1ur8xFPIKAZm7vzEU8goBo7y/MRTyCgHPvb8xFPIKAee+vxgKeYWABMC/GAp5hYBtwL8YCnmFgOfAvxgKeYWAJMG/GAp5hYB3wb8YCnmFgJrBvxgKeYWAyMG/GAp5hYDqwb8YCnmFgAbCvxgKeYWAQcK/GAp5hYBpwr8YCnmFgMLCvxgKeYWAEsO/GAp5hYCGw78YCnmFgOLDvxgKeYWAVcS/GAp5hYDZxL8YCnmFgGbFvxgKeYWA8MW/GAp5hYBhxr8YCnmFgMHGvxgKeYWA68a/GAp5hYAhx78YCnmFgB3HvxgKeYWAQce/GAp5hYBEx78YCnmFgDnHvxgKeYWAK8e/GAp5hYATx78YCnmFgB/HvxgKeYWAR8e/GAp5hYBhx78YCnmFgJnHvxgKeYWAz8e/GAp5hYAWyL8YCnmFgFTIvxgKeYWAjci/GAp5hYCzyL8YCnmFgMzIvxgKeYWAusi/GAp5hYCcyL8YCnmFgGfIvxgKeYWAKMi/GAp5hYC7x78YCnmFgG3HvxgKeYWAA8e/GAp5hYCYxr8YCnmFgEbGvxgKeYWAw8W/GAp5hYB6xb8YCnmFgADFvxgKeYWAqcS/GAp5hYA2xL8YCnmFgMDDvxgKeYWAK8O/GAp5hYCTwr8YCnmFgNHBvxgKeYWAC8G/GAp5hYAhwL8xFPIKATu+vzEU8goBOby/MRTyCgEDur8xFPIKAdu3vzEU8goBr7W/MRTyCgFxs78xFPIKAUuxv2Io5BUCTq6/YijkFQIyqr9iKOQVAmqmv2Io5BUCpqK/xFDIKwTcnr/EUMgrBCyYv8RQyCsEXJK/h6GQVwjYib8OQyGvEBB+vxyGQl4hYGK/8rzeUO/vcD95Xm+o9zeFPzyvN9T7G5E/PK831Pvrlz88rzfU+3OeP57XG+r9iaI/ntcb6v2dpT+e1xvq/dWoP57XG+r91as/ntcb6v1xrj/P6w31/niwP8/rDfX+PrE/z+sN9f4Ysj/P6w31/qKyP8/rDfX+/LI/z+sN9f5asz/P6w31/oSzP8/rDfX+nrM/z+sN9f7Gsz/P6w31/tizP8/rDfX+DLQ/z+sN9f7+sz/P6w31/h60P8/rDfX+SrQ/z+sN9f5qtD/P6w31/q60P8/rDfX+0LQ/z+sN9f4ktT/P6w31/lK1P8/rDfX+hLU/z+sN9f5+tT/P6w31/kS1P8/rDfX++LQ/z+sN9f6WtD/P6w31/iC0P8/rDfX+sLM/z+sN9f4isz/P6w31/sayP8/rDfX+UrI/z+sN9f7msT/P6w31/nixP8/rDfX+PLE/z+sN9f4GsT/P6w31/t6wP8/rDfX+1LA/z+sN9f7gsD/P6w31/uiwP8/rDfX++rA/z+sN9f4WsT/P6w31/vSwP8/rDfX+6LA/z+sN9f6qsD/P6w31/pawP8/rDfX+grA/z+sN9f6usD/P6w31/tSwP8/rDfX+IrE/z+sN9f58sT/P6w31/gqyP8/rDfX+hrI/z+sN9f50sz/P6w31/iS0P8/rDfX+DLU/z+sN9f7+tT/P6w31/hC3P8/rDfX+SLg/z+sN9f6muT/P6w31/va6P8/rDfX+ZLw/z+sN9f7wvT/P6w31/ny/P+j1hnp/o8A/6PWGen9jwT/o9YZ6f0/CP+j1hnp/CcM/6PWGen/Swz/o9YZ6f3PEP+j1hnp/L8U/6PWGen/WxT/o9YZ6f4HGP+j1hnp/Lsc/6PWGen/dxz/o9YZ6f4fIP+j1hnp/HMk/6PWGen+zyT/o9YZ6f0TKP+j1hnp/2co/6PWGen9lyz/o9YZ6f9jLP+j1hnp/S8w/6PWGen/VzD/o9YZ6fzjNP+j1hnp/xs0/6PWGen8Yzj/o9YZ6f3jOP+j1hnp/pc4/6PWGen/Pzj/o9YZ6f+zOP+j1hnp/784/6PWGen/Zzj/o9YZ6f6POP+j1hnp/Zs4/6PWGen8Gzj/o9YZ6f47NP+j1hnp//sw/6PWGen9DzD/o9YZ6f4bLP+j1hnp/pMo/6PWGen+4yT/o9YZ6f8nIP+j1hnp/vcc/6PWGen+fxj/o9YZ6f3zFP+j1hnp/TcQ/6PWGen8hwz/o9YZ6f87BP+j1hnp/ecA/z+sN9f72vT/P6w31/iK7P8/rDfX+FLg/z+sN9f4atT/P6w31/gyyP57XG+r9ra0/ntcb6v1Zpz+e1xvq/ZWgPzyvN9T7M5U/eV5vqPc3gD8OQyGvELBwv8RQyCsEhJG/xFDIKwRsnr9iKOQVAi6mv2Io5BUC4qy/MRTyCgH9sb8xFPIKAX21vzEU8goB57i/MRTyCgGJvL8YCnmFgAHAvxgKeYWAzcG/GAp5hYCCw78YCnmFgEDFvxgKeYWA/8a/GAp5hYC1yL8YCnmFgHfKvxgKeYWALMy/GAp5hYDHzb8YCnmFgHTPvwyFvELAdNC/DIW8QkA10b8MhbxCwOHRvwyFvEJAitK/DIW8QkAp078MhbxCwLPTvwyFvEJAONS/DIW8QsCu1L8MhbxCQA3VvwyFvEJAbdW/DIW8QkC51b8MhbxCQP7VvwyFvELAL9a/DIW8QkBZ1r8MhbxCQHvWvwyFvEJAm9a/DIW8QsCv1r8MhbxCQMPWvwyFvELA1ta/DIW8QkDs1r8MhbxCQP7WvwyFvEJADte/DIW8QsAi178MhbxCQCbXvwyFvELANde/DIW8QsAl178MhbxCwCfXvwyFvEJAGNe/DIW8QsAM178MhbxCQP7WvwyFvEJA4ta/DIW8QsDQ1r8MhbxCwLHWvwyFvEJAm9a/DIW8QkBw1r8MhbxCQETWvwyFvEJAFNa/DIW8QkDa1b8MhbxCwKTVvwyFvELAbdW/DIW8QkA11b8MhbxCwP3UvwyFvELAvdS/DIW8QkCH1L8MhbxCwETUvwyFvEJACdS/DIW8QsDA078MhbxCQIXTvwyFvEJAQdO/DIW8QkD/0r8MhbxCQLnSvwyFvELAcdK/DIW8QkAo0r8MhbxCwN3RvwyFvELAltG/DIW8QkBN0b8MhbxCQAnRvwyFvEJAw9C/DIW8QsB40L8MhbxCwDvQvxgKeYWA9M+/GAp5hYCNz78YCnmFgA/PvxgKeYWAlc6/GAp5hYAwzr8YCnmFgMDNvxgKeYWAX82/GAp5hYD3zL8YCnmFgJPMvxgKeYWAR8y/GAp5hYDOy78YCnmFgHPLvxgKeYWA+cq/GAp5hYCByr8YCnmFgB7KvxgKeYWAn8m/GAp5hYA6yb8YCnmFgL7IvxgKeYWAZci/GAp5hYDjx78YCnmFgInHvxgKeYWAHce/GAp5hYC1xr8YCnmFgETGvxgKeYWA6sW/GAp5hYBuxb8YCnmFgBPFvxgKeYWAucS/GAp5hYBjxL8YCnmFgPjDvxgKeYWAicO/GAp5hYAbw78YCnmFgIrCvxgKeYWAEsK/GAp5hYCIwb8YCnmFgOzAvxgKeYWASsC/MRTyCgFFv78xFPIKAeW9vzEU8goBL7y/MRTyCgF7ur8xFPIKAeW4vzEU8goBHbe/MRTyCgEltb8xFPIKATWzvzEU8goBNbG/YijkFQJWrr9iKOQVAjqqv2Io5BUC4qW/YijkFQKqob/EUMgrBESav8RQyCsEFJK/h6GQVwjIgL+P5/WGen9FP3leb6j3l4I/PK831Ptjkz88rzfU+5OcP57XG+r9VaM/ntcb6v3lpz+e1xvq/cWsP8/rDfX+xrA/z+sN9f7wsj/P6w31/kC1P8/rDfX+Krc/z+sN9f46uT/P6w31/kq7P8/rDfX+hL0/z+sN9f7Evz/o9YZ6fwrBP+j1hnp/LcI/6PWGen9Ywz/o9YZ6f5LEP+j1hnp/yMU/6PWGen/1xj/o9YZ6fxfIP+j1hnp/KMk/6PWGen8pyj/o9YZ6fzfLP+j1hnp/Lcw/6PWGen88zT/o9YZ6fyjOP+j1hnp/Is8/9HpDvb8K0D/0ekO9v4bQP/R6Q72/EtE/9HpDvb+L0T/0ekO9vwnSP/R6Q72/jtI/9HpDvb8M0z/0ekO9v4/TP/R6Q70/AdQ/9HpDvb9s1D/0ekO9P8fUP/R6Q70/HNU/9HpDvb9j1T/0ekO9v6LVP/R6Q70/z9U/9HpDvb/71T/0ekO9vxPWP/R6Q72/LNY/9HpDvb9C1j/0ekO9P1jWP/R6Q72/cdY/9HpDvT+F1j/0ekO9P6PWP/R6Q70/wdY/9HpDvb/l1j/0ekO9vwDXP/R6Q72/INc/9HpDvT8l1z/0ekO9Py7XP/R6Q72/JNc/9HpDvb8O1z/0ekO9v+7WP/R6Q70/vtY/9HpDvT+U1j/0ekO9P1zWP/R6Q72/H9Y/9HpDvT/p1T/0ekO9v6vVP/R6Q72/Z9U/9HpDvT8z1T/0ekO9P/7UP/R6Q72/2NQ/9HpDvT+n1D/0ekO9P3nUP/R6Q70/RNQ/9HpDvb8N1D/0ekO9P8vTP/R6Q72/eNM/9HpDvT8b0z/0ekO9P7TSP/R6Q72/QdI/9HpDvb/S0T/0ekO9P1TRP/R6Q70/5tA/9HpDvT9u0D/0ekO9PwbQP+j1hnp/Rc8/6PWGen+Rzj/o9YZ6fw7OP+j1hnp/fs0/6PWGen8PzT/o9YZ6f5nMP+j1hnp/O8w/6PWGen/Xyz/o9YZ6f1LLP+j1hnp/2so/6PWGen9Ayj/o9YZ6f8nJP+j1hnp/Jck/6PWGen9+yD/o9YZ6f93HP+j1hnp/Msc/6PWGen98xj/o9YZ6f9bFP+j1hnp/NcU/6PWGen+nxD/o9YZ6fyDEP+j1hnp/o8M/6PWGen9Awz/o9YZ6f+HCP+j1hnp/aMI/6PWGen/7wT/o9YZ6f4jBP+j1hnp/CcE/6PWGen+CwD/P6w31/pK/P8/rDfX+UL4/z+sN9f7YvD/P6w31/nq7P8/rDfX+Cro/z+sN9f7euD/P6w31/rK3P8/rDfX+zLY/z+sN9f6ytT/P6w31/hy1P8/rDfX+YLQ/z+sN9f4GtD/P6w31/pazP8/rDfX+ZLM/z+sN9f4Qsz/P6w31/riyP8/rDfX+erI/z+sN9f4Msj/P6w31/q6xP8/rDfX+BrE/z+sN9f5QsD+e1xvq/d2uP57XG+r97aw/ntcb6v2Nqj+e1xvq/WGoP57XG+r9qaU/ntcb6v1loz+e1xvq/QGhPzyvN9T7e50/PK831PtLmT88rzfU+3uVPzyvN9T7C5I/eV5vqPeHjj95Xm+o90eKP3leb6j3l4U/eV5vqPcXgz/yvN5Q7299P/K83lDv73o/8rzeUO9vcj/keb2h3l9uP4/n9YZ6f04/OQyFvELAWb8OQyGvENBzv4ehkFcIqIG/h6GQVwiIir/EUMgrBESRv8RQyCsELJW/xFDIKwS8mL/EUMgrBMybv8RQyCsEnJ2/xFDIKwS0n79iKOQVAp6gv2Io5BUCAqG/YijkFQKOob9iKOQVAoahv2Io5BUCcqK/YijkFQKKor9iKOQVApKjv2Io5BUCZqS/YijkFQIOpr9iKOQVArqnv2Io5BUCrqm/YijkFQLmq79iKOQVAvqtv2Io5BUC7q+/MRTyCgHlsL8xFPIKAbmxvzEU8goBd7K/MRTyCgEjs78xFPIKAY2zvzEU8goB/bO/MRTyCgE9tL8xFPIKAXO0vzEU8goBq7S/MRTyCgH/tL8xFPIKATG1vzEU8goBo7W/MRTyCgFltr8xFPIKAQu3vzEU8goBI7i/MRTyCgEdub8xFPIKAVO6vzEU8goBk7u/MRTyCgGtvL8xFPIKAa+9vzEU8goBwb6/MRTyCgGhv78YCnmFgDPAvxgKeYWAisC/GAp5hYDEwL8YCnmFgPHAvxgKeYWAK8G/GAp5hYBgwb8YCnmFgIXBvxgKeYWAyMG/GAp5hYDzwb8YCnmFgFbCvxgKeYWAwMK/GAp5hYBCw78YCnmFgNbDvxgKeYWAS8S/GAp5hYDlxL8YCnmFgE3FvxgKeYWAwMW/GAp5hYAZxr8YCnmFgGfGvxgKeYWAsMa/GAp5hYDdxr8YCnmFgPbGvxgKeYWA8sa/GAp5hYDtxr8YCnmFgPLGvxgKeYWABse/GAp5hYAhx78YCnmFgFvHvxgKeYWAlMe/GAp5hYDcx78YCnmFgB7IvxgKeYWAcMi/GAp5hYC+yL8YCnmFgPrIvxgKeYWAE8m/GAp5hYA6yb8YCnmFgDfJvxgKeYWAQMm/GAp5hYAvyb8YCnmFgAXJvxgKeYWA2si/GAp5hYCtyL8YCnmFgH3IvxgKeYWATMi/GAp5hYAryL8YCnmFgO3HvxgKeYWAuMe/GAp5hYCJx78YCnmFgGLHvxgKeYWANse/GAp5hYDcxr8YCnmFgI/GvxgKeYWAJca/GAp5hYClxb8YCnmFgBnFvxgKeYWAZMS/GAp5hYCvw78YCnmFgMvCvxgKeYWA6MG/GAp5hYDgwL8xFPIKAdO/vzEU8goBq72/MRTyCgGTu78xFPIKAWO5vzEU8goBi7e/MRTyCgGxtb8xFPIKAeuzvzEU8goBG7K/MRTyCgFdsL9iKOQVAnKtv2Io5BUCVqq/YijkFQIep79iKOQVAgqkv2Io5BUCmqC/xFDIKwT0mr/EUMgrBJyTv4ehkFcIKIq/DkMhrxBwdr/H83pDvT9cP3leb6j3R4I/PK831Pu7kD88rzfU+2OXPzyvN9T7u50/ntcb6v3loT+e1xvq/V2kP57XG+r9/aY/ntcb6v0NqT+e1xvq/QWrP57XG+r9aaw/ntcb6v3JrT+e1xvq/W2uP57XG+r9La8/ntcb6v2Vrz/P6w31/jCwP8/rDfX+arA/z+sN9f66sD/P6w31/lyxP8/rDfX+urE/z+sN9f4ksj/P6w31/l6yP8/rDfX+uLI/z+sN9f4Osz/P6w31/iazP8/rDfX+PLM/z+sN9f5Qsz/P6w31/j6zP8/rDfX+8LI/z+sN9f6ysj/P6w31/nyyP8/rDfX+DrI/z+sN9f6usT/P6w31/h6xP8/rDfX+9rA/z+sN9f6ksD/P6w31/n6wP8/rDfX+RLA/z+sN9f44sD+e1xvq/eGvP57XG+r9ia8/ntcb6v3trj+e1xvq/VmuP57XG+r9va0/ntcb6v09rT+e1xvq/cmsP57XG+r9Naw/ntcb6v31qz+e1xvq/WGrP57XG+r9Das/ntcb6v1hqj+e1xvq/T2qP57XG+r9vak/ntcb6v3ZqT+e1xvq/empP57XG+r9fao/ntcb6v35qj+e1xvq/e2rP57XG+r9Ga0/ntcb6v0lrj+e1xvq/XmvP8/rDfX+qLA/z+sN9f6QsT/P6w31/rqyP8/rDfX+6LM/z+sN9f4utT/P6w31/oS2P8/rDfX+2Lc/z+sN9f4iuT/P6w31/ra6P8/rDfX+Arw/z+sN9f6SvT/P6w31/vC+P+j1hnp/O8A/6PWGen/iwD/o9YZ6f5HBP+j1hnp/K8I/6PWGen/Xwj/o9YZ6f4fDP+j1hnp/LcQ/6PWGen/XxD/o9YZ6f3nFP+j1hnp/IcY/6PWGen/Hxj/o9YZ6f2vHP+j1hnp/Fcg/6PWGen+qyD/o9YZ6fznJP+j1hnp/zMk/6PWGen9fyj/o9YZ6f/bKP+j1hnp/gss/6PWGen8AzD/o9YZ6f2XMP+j1hnp/qsw/6PWGen/izD/o9YZ6f/vMP+j1hnp/Fc0/6PWGen//zD/o9YZ6f+rMP+j1hnp/ycw/6PWGen+BzD/o9YZ6fzHMP+j1hnp/2Ms/6PWGen9myz/o9YZ6f8/KP+j1hnp/L8o/6PWGen9vyT/o9YZ6f6nIP+j1hnp/xsc/6PWGen/axj/o9YZ6f8/FP+j1hnp/r8Q/6PWGen+Vwz/o9YZ6f1nCP+j1hnp/L8E/z+sN9f7cvz/P6w31/ia9P8/rDfX+Uro/z+sN9f56tz/P6w31/rC0P8/rDfX+4LE/ntcb6v2lrT+e1xvq/cWnP57XG+r9paE/PK831PuDlz95Xm+o9zeGP3EYCnmFgES/h6GQVwiIir/EUMgrBCyZv2Io5BUCIqO/YijkFQKeqb8xFPIKARuwvzEU8goBV7O/MRTyCgGhtr8xFPIKARe6vzEU8goBQ72/GAp5hYBUwL8YCnmFgPjBvxgKeYWAt8O/GAp5hYBgxb8YCnmFgCTHvxgKeYWAzsi/GAp5hYBryr8YCnmFgAPMvxgKeYWAjc2/GAp5hYAMz78MhbxCQDDQvwyFvEJA0NC/DIW8QkBh0b8MhbxCwObRvwyFvELAX9K/DIW8QkDQ0r8MhbxCQCrTvwyFvEJAidO/DIW8QkDP078MhbxCwBLUvwyFvEJATdS/DIW8QkCE1L8MhbxCwLHUvwyFvEJA0tS/DIW8QkDx1L8MhbxCQAzVvwyFvEJAM9W/DIW8QsBE1b8MhbxCwFTVvwyFvELAYtW/DIW8QsBw1b8MhbxCwH7VvwyFvELAitW/DIW8QsCH1b8MhbxCQInVvwyFvEJAgNW/DIW8QsBt1b8MhbxCwGDVvwyFvELARdW/DIW8QsA31b8MhbxCQBHVvwyFvELA+tS/DIW8QkDT1L8MhbxCwL7UvwyFvELAjtS/DIW8QsBh1L8MhbxCwDbUvwyFvELAAtS/DIW8QsDZ078MhbxCQKjTvwyFvELAddO/DIW8QsA8078MhbxCwArTvwyFvEJAyNK/DIW8QkCY0r8MhbxCwEvSvwyFvEJADdK/DIW8QsC+0b8MhbxCwIDRvwyFvEJAPdG/DIW8QkD80L8MhbxCwL3QvwyFvELAetC/DIW8QkBB0L8MhbxCwAnQvxgKeYWAoM+/GAp5hYBBz78YCnmFgNDOvxgKeYWAYc6/GAp5hYD7zb8YCnmFgKPNvxgKeYWASc2/GAp5hYD1zL8YCnmFgH3MvxgKeYWALcy/GAp5hYC9y78YCnmFgGvLvxgKeYWAD8u/GAp5hYCmyr8YCnmFgEDKvxgKeYWA2Mm/GAp5hYB1yb8YCnmFgBjJvxgKeYWArci/GAp5hYBFyL8YCnmFgPHHvxgKeYWAjce/GAp5hYA+x78YCnmFgNzGvxgKeYWAhsa/GAp5hYA4xr8YCnmFgNbFvxgKeYWAlcW/GAp5hYBMxb8YCnmFgP7EvxgKeYWAosS/GAp5hYBgxL8YCnmFgBnEvxgKeYWAwcO/GAp5hYBdw78YCnmFgO3CvxgKeYWAeMK/GAp5hYDzwb8YCnmFgG/BvxgKeYWAu8C/GAp5hYAFwL8xFPIKAcO+vzEU8goBYb2/MRTyCgHVu78xFPIKAVe6vzEU8goB6bi/MRTyCgEvt78xFPIKAVu1vzEU8goBl7O/MRTyCgGdsb9iKOQVAh6vv2Io5BUC4qq/YijkFQJapr9iKOQVAgqiv8RQyCsEbJq/xFDIKwT0kb+HoZBXCPiAvxGHoZBXCAi/eV5vqPeHgT88rzfU+9OQPzyvN9T7u5k/ntcb6v3NoD+e1xvq/TGlP57XG+r9Tak/ntcb6v3xrT/P6w31/hixP8/rDfX+dLM/z+sN9f6WtT/P6w31/s63P8/rDfX+Oro/z+sN9f6kvD/P6w31/gK/P+j1hnp/pMA/6PWGen+1wT/o9YZ6f+jCP+j1hnp/7MM/6PWGen/3xD/o9YZ6f//FP+j1hnp/5sY/6PWGen/exz/o9YZ6f+DIP+j1hnp/7ck/6PWGen/1yj/o9YZ6fwjMP+j1hnp/MM0/6PWGen9Ozj/o9YZ6f3jPP/R6Q72/VdA/9HpDvT/m0D/0ekO9P2nRP/R6Q70/6dE/9HpDvb9o0j/0ekO9v8zSP/R6Q72/MNM/9HpDvT+L0z/0ekO9P9HTP/R6Q72/EtQ/9HpDvb9F1D/0ekO9P47UP/R6Q72/ttQ/9HpDvT8C1T/0ekO9PyzVP/R6Q70/a9U/9HpDvb+d1T/0ekO9P9nVP/R6Q70/E9Y/9HpDvb9F1j/0ekO9v3rWP/R6Q70/pNY/9HpDvT/H1j/0ekO9P9jWP/R6Q70/3tY/9HpDvT/X1j/0ekO9P8bWP/R6Q72/otY/9HpDvb+L1j/0ekO9P1TWP/R6Q72/MNY/9HpDvb8N1j/0ekO9P/jVP/R6Q70/0dU/9HpDvb/I1T/0ekO9P67VP/R6Q70/mNU/9HpDvT921T/0ekO9P1PVP/R6Q72/KNU/9HpDvb/31D/0ekO9v7fUP/R6Q72/a9Q/9HpDvb8Q1D/0ekO9P7rTP/R6Q70/TNM/9HpDvT/d0j/0ekO9v2nSP/R6Q70/9tE/9HpDvb+P0T/0ekO9PyTRP/R6Q70/y9A/9HpDvb920D/0ekO9vy3QP+j1hnp/1c8/6PWGen9Nzz/o9YZ6f8nOP+j1hnp/R84/6PWGen/DzT/o9YZ6fzTNP+j1hnp/m8w/6PWGen/qyz/o9YZ6fznLP+j1hnp/fso/6PWGen+/yT/o9YZ6fwzJP+j1hnp/Zsg/6PWGen+xxz/o9YZ6fxbHP+j1hnp/kMY/6PWGen8gxj/o9YZ6f5nFP+j1hnp/B8U/6PWGen+RxD/o9YZ6fxTEP+j1hnp/n8M/6PWGen8Swz/o9YZ6f4bCP+j1hnp/5ME/6PWGen9GwT/o9YZ6f3zAP8/rDfX+qL8/z+sN9f4Avj/P6w31/p68P8/rDfX+CLs/z+sN9f6quT/P6w31/j64P8/rDfX+FLc/z+sN9f7utT/P6w31/hC1P8/rDfX+QrQ/z+sN9f6ksz/P6w31/iazP8/rDfX+uLI/z+sN9f5Qsj/P6w31/vyxP8/rDfX+tLE/z+sN9f5YsT/P6w31/tKwP8/rDfX+TrA/ntcb6v0xrz+e1xvq/Y2tP57XG+r9xas/ntcb6v2dqT+e1xvq/SGnP57XG+r99aQ/ntcb6v1Boj88rzfU+7ufPzyvN9T7a5s/PK831Pujlz88rzfU+2OUPzyvN9T7e5E/eV5vqPe3jT95Xm+o9zeKP3leb6j3R4c/eV5vqPdnhD95Xm+o9weCP/K83lDvb3w/8rzeUO8vdT/keb2h3t9iP+IwFPIKATu/HIZCXiGgb78OQyGvEDB9v4ehkFcIqIW/h6GQVwjojL/EUMgrBPyRv8RQyCsEhJW/xFDIKwRkmL/EUMgrBBSbv8RQyCsEBJ2/xFDIKwQ8nr/EUMgrBISfv8RQyCsE7J+/YijkFQJSoL9iKOQVAq6gv2Io5BUCMqG/YijkFQLyob9iKOQVAqKiv2Io5BUCuqO/YijkFQIipb9iKOQVAuKmv2Io5BUCqqi/YijkFQJyqr9iKOQVAlKsv2Io5BUCLq6/YijkFQKyr78xFPIKAYuwvzEU8goBAbG/MRTyCgFTsb8xFPIKAZ+xvzEU8goB3bG/MRTyCgH/sb8xFPIKAT2yvzEU8goBcbK/MRTyCgGjsr8xFPIKASOzvzEU8goBvbO/MRTyCgFrtL8xFPIKARu1vzEU8goB2bW/MRTyCgHttr8xFPIKAf+3vzEU8goB87i/MRTyCgEBur8xFPIKAdO6vzEU8goBzbu/MRTyCgFhvL8xFPIKAeu8vzEU8goBN72/MRTyCgGZvb8xFPIKAb29vzEU8goBHb6/MRTyCgFxvr8xFPIKAeO+vzEU8goBeb+/GAp5hYASwL8YCnmFgILAvxgKeYWA/cC/GAp5hYCFwb8YCnmFgAbCvxgKeYWAeMK/GAp5hYDlwr8YCnmFgFLDvxgKeYWArcO/GAp5hYDsw78YCnmFgCnEvxgKeYWAQMS/GAp5hYBlxL8YCnmFgHXEvxgKeYWAo8S/GAp5hYDQxL8YCnmFgPbEvxgKeYWAJ8W/GAp5hYBixb8YCnmFgJbFvxgKeYWA08W/GAp5hYAyxr8YCnmFgHfGvxgKeYWA2sa/GAp5hYAdx78YCnmFgF7HvxgKeYWAiMe/GAp5hYCgx78YCnmFgLPHvxgKeYWAvMe/GAp5hYC5x78YCnmFgKzHvxgKeYWAo8e/GAp5hYCGx78YCnmFgIPHvxgKeYWAace/GAp5hYBmx78YCnmFgF7HvxgKeYWAVce/GAp5hYBWx78YCnmFgFDHvxgKeYWANce/GAp5hYAfx78YCnmFgP3GvxgKeYWAvca/GAp5hYB2xr8YCnmFgPnFvxgKeYWAhMW/GAp5hYDyxL8YCnmFgE/EvxgKeYWAmMO/GAp5hYDCwr8YCnmFgPHBvxgKeYWA/MC/GAp5hYAjwL8xFPIKAYW+vzEU8goBrby/MRTyCgEFu78xFPIKAUu5vzEU8goBqbe/MRTyCgH/tb8xFPIKAbW0vzEU8goB+7K/MRTyCgFvsb9iKOQVAnavv2Io5BUCCqy/YijkFQJqqL9iKOQVArKkv2Io5BUCHqG/xFDIKwQsmr/EUMgrBGSSv4ehkFcICIW/HIZCXiGgZ7/yvN5Q7w90P3leb6j3p4g/PK831Psrkz88rzfU+7OZPzyvN9T7e58/ntcb6v0hoj+e1xvq/SmkP57XG+r9NaY/ntcb6v0RqD+e1xvq/bGpP57XG+r9das/ntcb6v0hrT+e1xvq/XWuP57XG+r9ga8/z+sN9f5YsD/P6w31/vSwP8/rDfX+hLE/z+sN9f4gsj/P6w31/qiyP8/rDfX+MLM/z+sN9f6csz/P6w31/uCzP8/rDfX+HrQ/z+sN9f4atD/P6w31/i60P8/rDfX+NLQ/z+sN9f4gtD/P6w31/gi0P8/rDfX+5LM/z+sN9f62sz/P6w31/qyzP8/rDfX+YrM/z+sN9f5osz/P6w31/h6zP8/rDfX+2LI/z+sN9f6ssj/P6w31/nayP8/rDfX+XLI/z+sN9f4gsj/P6w31/tqxP8/rDfX+krE/z+sN9f5AsT/P6w31/tiwP8/rDfX+mLA/z+sN9f4esD+e1xvq/bGvP57XG+r9Ba8/ntcb6v2Jrj+e1xvq/fGtP57XG+r9na0/ntcb6v3hrD+e1xvq/ZWsP57XG+r9Caw/ntcb6v0JrD+e1xvq/e2rP57XG+r9Raw/ntcb6v3prD+e1xvq/dWtP57XG+r9Ua8/z+sN9f40sD/P6w31/gqxP8/rDfX+yLE/z+sN9f6qsj/P6w31/qizP8/rDfX+uLQ/z+sN9f7atT/P6w31/iK3P8/rDfX+XLg/z+sN9f6ouT/P6w31/ti6P8/rDfX+ULw/z+sN9f60vT/P6w31/iq/P+j1hnp/PsA/6PWGen/kwD/o9YZ6f4zBP+j1hnp/FcI/6PWGen/Fwj/o9YZ6f1rDP+j1hnp/CsQ/6PWGen+lxD/o9YZ6f1rFP+j1hnp//8U/6PWGen+xxj/o9YZ6f13HP+j1hnp/DMg/6PWGen+1yD/o9YZ6f1fJP+j1hnp/7ck/6PWGen9oyj/o9YZ6f+zKP+j1hnp/X8s/6PWGen/cyz/o9YZ6f0jMP+j1hnp/o8w/6PWGen/vzD/o9YZ6fwzNP+j1hnp/Ms0/6PWGen84zT/o9YZ6f0TNP+j1hnp/OM0/6PWGen8RzT/o9YZ6f9PMP+j1hnp/jcw/6PWGen82zD/o9YZ6f63LP+j1hnp/Gss/6PWGen9Vyj/o9YZ6f5zJP+j1hnp/v8g/6PWGen/gxz/o9YZ6f+fGP+j1hnp/zcU/6PWGen+5xD/o9YZ6f4vDP+j1hnp/asI/6PWGen8cwT/P6w31/qC/P8/rDfX+xrw/z+sN9f7suT/P6w31/hi3P8/rDfX+SrQ/z+sN9f5msT+e1xvq/dmsP57XG+r92aY/ntcb6v31oD88rzfU+wOWP3leb6j3V4Q/OQyFvELAWb+HoZBXCEiLv8RQyCsEHJq/YijkFQJOo79iKOQVAuapvzEU8goBZ7C/MRTyCgGXs78xFPIKAQm3vzEU8goBbbq/MRTyCgH/vb8YCnmFgLTAvxgKeYWAa8K/GAp5hYAvxL8YCnmFgOfFvxgKeYWAjse/GAp5hYA0yb8YCnmFgMLKvxgKeYWAU8y/GAp5hYC5zb8YCnmFgB/PvwyFvEJAKNC/DIW8QsDA0L8MhbxCQEHRvwyFvELAv9G/DIW8QkA50r8MhbxCQJrSvwyFvELA/tK/DIW8QsBP078MhbxCwJvTvwyFvEJA59O/DIW8QsAl1L8MhbxCQF3UvwyFvELAiNS/DIW8QsCz1L8MhbxCQNXUvwyFvEJA99S/DIW8QkAW1b8MhbxCwC7VvwyFvELAP9W/DIW8QsBZ1b8MhbxCwGjVvwyFvELAddW/DIW8QkB51b8MhbxCQH7VvwyFvEJAddW/DIW8QsBt1b8MhbxCQGHVvwyFvEJATtW/DIW8QkA41b8MhbxCwCTVvwyFvELAE9W/DIW8QkD+1L8MhbxCwOPUvwyFvELAx9S/DIW8QkCe1L8MhbxCQHrUvwyFvEJASdS/DIW8QsAh1L8MhbxCQPDTvwyFvELAutO/DIW8QsCE078MhbxCQEzTvwyFvELADNO/DIW8QsDR0r8MhbxCwJDSvwyFvELAV9K/DIW8QkAZ0r8MhbxCwNrRvwyFvEJAoNG/DIW8QsBh0b8MhbxCwCfRvwyFvEJA8dC/DIW8QkDG0L8MhbxCQIvQvwyFvELAVdC/DIW8QkAq0L8YCnmFgPbPvxgKeYWAjs+/GAp5hYAxz78YCnmFgMfOvxgKeYWAbc6/GAp5hYAMzr8YCnmFgLTNvxgKeYWASs2/GAp5hYDwzL8YCnmFgIzMvxgKeYWAN8y/GAp5hYDBy78YCnmFgGfLvxgKeYWA5cq/GAp5hYCcyr8YCnmFgBPKvxgKeYWAtsm/GAp5hYBGyb8YCnmFgALJvxgKeYWAnci/GAp5hYBTyL8YCnmFgAnIvxgKeYWAtse/GAp5hYB5x78YCnmFgDLHvxgKeYWA7ca/GAp5hYCdxr8YCnmFgEjGvxgKeYWA9sW/GAp5hYCXxb8YCnmFgEnFvxgKeYWA58S/GAp5hYCRxL8YCnmFgCLEvxgKeYWAq8O/GAp5hYAyw78YCnmFgMTCvxgKeYWAOMK/GAp5hYCvwb8YCnmFgATBvxgKeYWAbcC/MRTyCgF5v78xFPIKAc29vzEU8goBQby/MRTyCgGTur8xFPIKAc24vzEU8goBu7a/MRTyCgHdtL8xFPIKAa2yvzEU8goBtbC/YijkFQJSrb9iKOQVArKpv2Io5BUChqW/YijkFQK+ob/EUMgrBPybv8RQyCsELJS/h6GQVwh4ib8OQyGvEJBzv+R5vaHe324/eV5vqPeHiD88rzfU+wuVPzyvN9T7s50/ntcb6v2Voz+e1xvq/UGoP57XG+r9zaw/z+sN9f68sD/P6w31/tCyP8/rDfX+urQ/z+sN9f7Atj/P6w31/uq4P8/rDfX+3ro/z+sN9f66vD/P6w31/rC+P+j1hnp/S8A/6PWGen9MwT/o9YZ6f2HCP+j1hnp/cMM/6PWGen9txD/o9YZ6f4zFP+j1hnp/scY/6PWGen/oxz/o9YZ6fx/JP+j1hnp/aso/6PWGen+gyz/o9YZ6f7nMP+j1hnp/4M0/6PWGen/jzj/o9YZ6f9TPP/R6Q70/TdA/9HpDvT+s0D/0ekO9vwnRP/R6Q72/YtE/9HpDvT+y0T/0ekO9vw7SP/R6Q72/WdI/9HpDvb+10j/0ekO9vwvTP/R6Q70/bNM/9HpDvT/J0z/0ekO9vyfUP/R6Q70/edQ/9HpDvT/F1D/0ekO9vwrVP/R6Q72/StU/9HpDvT961T/0ekO9P6XVP/R6Q72/v9U/9HpDvT/T1T/0ekO9v9zVP/R6Q72/39U/9HpDvT/b1T/0ekO9P+LVP/R6Q70/1NU/9HpDvT/c1T/0ekO9P93VP/R6Q72/4NU/9HpDvT/i1T/0ekO9P+rVP/R6Q70/+NU/9HpDvT/51T/0ekO9v/PVP/R6Q72/3dU/9HpDvT/A1T/0ekO9P47VP/R6Q70/UtU/9HpDvb8V1T/0ekO9v83UP/R6Q70/c9Q/9HpDvT8c1D/0ekO9P8PTP/R6Q70/c9M/9HpDvb8i0z/0ekO9v9LSP/R6Q72/h9I/9HpDvb9D0j/0ekO9P//RP/R6Q70/w9E/9HpDvT+F0T/0ekO9v0nRP/R6Q70/CdE/9HpDvb/C0D/0ekO9P4DQP/R6Q72/KNA/6PWGen+9zz/o9YZ6fxbPP+j1hnp/XM4/",
          "dtype": "f8"
         }
        }
       ],
       "layout": {
        "template": {
         "data": {
          "bar": [
           {
            "error_x": {
             "color": "#2a3f5f"
            },
            "error_y": {
             "color": "#2a3f5f"
            },
            "marker": {
             "line": {
              "color": "#E5ECF6",
              "width": 0.5
             },
             "pattern": {
              "fillmode": "overlay",
              "size": 10,
              "solidity": 0.2
             }
            },
            "type": "bar"
           }
          ],
          "barpolar": [
           {
            "marker": {
             "line": {
              "color": "#E5ECF6",
              "width": 0.5
             },
             "pattern": {
              "fillmode": "overlay",
              "size": 10,
              "solidity": 0.2
             }
            },
            "type": "barpolar"
           }
          ],
          "carpet": [
           {
            "aaxis": {
             "endlinecolor": "#2a3f5f",
             "gridcolor": "white",
             "linecolor": "white",
             "minorgridcolor": "white",
             "startlinecolor": "#2a3f5f"
            },
            "baxis": {
             "endlinecolor": "#2a3f5f",
             "gridcolor": "white",
             "linecolor": "white",
             "minorgridcolor": "white",
             "startlinecolor": "#2a3f5f"
            },
            "type": "carpet"
           }
          ],
          "choropleth": [
           {
            "colorbar": {
             "outlinewidth": 0,
             "ticks": ""
            },
            "type": "choropleth"
           }
          ],
          "contour": [
           {
            "colorbar": {
             "outlinewidth": 0,
             "ticks": ""
            },
            "colorscale": [
             [
              0,
              "#0d0887"
             ],
             [
              0.1111111111111111,
              "#46039f"
             ],
             [
              0.2222222222222222,
              "#7201a8"
             ],
             [
              0.3333333333333333,
              "#9c179e"
             ],
             [
              0.4444444444444444,
              "#bd3786"
             ],
             [
              0.5555555555555556,
              "#d8576b"
             ],
             [
              0.6666666666666666,
              "#ed7953"
             ],
             [
              0.7777777777777778,
              "#fb9f3a"
             ],
             [
              0.8888888888888888,
              "#fdca26"
             ],
             [
              1,
              "#f0f921"
             ]
            ],
            "type": "contour"
           }
          ],
          "contourcarpet": [
           {
            "colorbar": {
             "outlinewidth": 0,
             "ticks": ""
            },
            "type": "contourcarpet"
           }
          ],
          "heatmap": [
           {
            "colorbar": {
             "outlinewidth": 0,
             "ticks": ""
            },
            "colorscale": [
             [
              0,
              "#0d0887"
             ],
             [
              0.1111111111111111,
              "#46039f"
             ],
             [
              0.2222222222222222,
              "#7201a8"
             ],
             [
              0.3333333333333333,
              "#9c179e"
             ],
             [
              0.4444444444444444,
              "#bd3786"
             ],
             [
              0.5555555555555556,
              "#d8576b"
             ],
             [
              0.6666666666666666,
              "#ed7953"
             ],
             [
              0.7777777777777778,
              "#fb9f3a"
             ],
             [
              0.8888888888888888,
              "#fdca26"
             ],
             [
              1,
              "#f0f921"
             ]
            ],
            "type": "heatmap"
           }
          ],
          "histogram": [
           {
            "marker": {
             "pattern": {
              "fillmode": "overlay",
              "size": 10,
              "solidity": 0.2
             }
            },
            "type": "histogram"
           }
          ],
          "histogram2d": [
           {
            "colorbar": {
             "outlinewidth": 0,
             "ticks": ""
            },
            "colorscale": [
             [
              0,
              "#0d0887"
             ],
             [
              0.1111111111111111,
              "#46039f"
             ],
             [
              0.2222222222222222,
              "#7201a8"
             ],
             [
              0.3333333333333333,
              "#9c179e"
             ],
             [
              0.4444444444444444,
              "#bd3786"
             ],
             [
              0.5555555555555556,
              "#d8576b"
             ],
             [
              0.6666666666666666,
              "#ed7953"
             ],
             [
              0.7777777777777778,
              "#fb9f3a"
             ],
             [
              0.8888888888888888,
              "#fdca26"
             ],
             [
              1,
              "#f0f921"
             ]
            ],
            "type": "histogram2d"
           }
          ],
          "histogram2dcontour": [
           {
            "colorbar": {
             "outlinewidth": 0,
             "ticks": ""
            },
            "colorscale": [
             [
              0,
              "#0d0887"
             ],
             [
              0.1111111111111111,
              "#46039f"
             ],
             [
              0.2222222222222222,
              "#7201a8"
             ],
             [
              0.3333333333333333,
              "#9c179e"
             ],
             [
              0.4444444444444444,
              "#bd3786"
             ],
             [
              0.5555555555555556,
              "#d8576b"
             ],
             [
              0.6666666666666666,
              "#ed7953"
             ],
             [
              0.7777777777777778,
              "#fb9f3a"
             ],
             [
              0.8888888888888888,
              "#fdca26"
             ],
             [
              1,
              "#f0f921"
             ]
            ],
            "type": "histogram2dcontour"
           }
          ],
          "mesh3d": [
           {
            "colorbar": {
             "outlinewidth": 0,
             "ticks": ""
            },
            "type": "mesh3d"
           }
          ],
          "parcoords": [
           {
            "line": {
             "colorbar": {
              "outlinewidth": 0,
              "ticks": ""
             }
            },
            "type": "parcoords"
           }
          ],
          "pie": [
           {
            "automargin": true,
            "type": "pie"
           }
          ],
          "scatter": [
           {
            "fillpattern": {
             "fillmode": "overlay",
             "size": 10,
             "solidity": 0.2
            },
            "type": "scatter"
           }
          ],
          "scatter3d": [
           {
            "line": {
             "colorbar": {
              "outlinewidth": 0,
              "ticks": ""
             }
            },
            "marker": {
             "colorbar": {
              "outlinewidth": 0,
              "ticks": ""
             }
            },
            "type": "scatter3d"
           }
          ],
          "scattercarpet": [
           {
            "marker": {
             "colorbar": {
              "outlinewidth": 0,
              "ticks": ""
             }
            },
            "type": "scattercarpet"
           }
          ],
          "scattergeo": [
           {
            "marker": {
             "colorbar": {
              "outlinewidth": 0,
              "ticks": ""
             }
            },
            "type": "scattergeo"
           }
          ],
          "scattergl": [
           {
            "marker": {
             "colorbar": {
              "outlinewidth": 0,
              "ticks": ""
             }
            },
            "type": "scattergl"
           }
          ],
          "scattermap": [
           {
            "marker": {
             "colorbar": {
              "outlinewidth": 0,
              "ticks": ""
             }
            },
            "type": "scattermap"
           }
          ],
          "scattermapbox": [
           {
            "marker": {
             "colorbar": {
              "outlinewidth": 0,
              "ticks": ""
             }
            },
            "type": "scattermapbox"
           }
          ],
          "scatterpolar": [
           {
            "marker": {
             "colorbar": {
              "outlinewidth": 0,
              "ticks": ""
             }
            },
            "type": "scatterpolar"
           }
          ],
          "scatterpolargl": [
           {
            "marker": {
             "colorbar": {
              "outlinewidth": 0,
              "ticks": ""
             }
            },
            "type": "scatterpolargl"
           }
          ],
          "scatterternary": [
           {
            "marker": {
             "colorbar": {
              "outlinewidth": 0,
              "ticks": ""
             }
            },
            "type": "scatterternary"
           }
          ],
          "surface": [
           {
            "colorbar": {
             "outlinewidth": 0,
             "ticks": ""
            },
            "colorscale": [
             [
              0,
              "#0d0887"
             ],
             [
              0.1111111111111111,
              "#46039f"
             ],
             [
              0.2222222222222222,
              "#7201a8"
             ],
             [
              0.3333333333333333,
              "#9c179e"
             ],
             [
              0.4444444444444444,
              "#bd3786"
             ],
             [
              0.5555555555555556,
              "#d8576b"
             ],
             [
              0.6666666666666666,
              "#ed7953"
             ],
             [
              0.7777777777777778,
              "#fb9f3a"
             ],
             [
              0.8888888888888888,
              "#fdca26"
             ],
             [
              1,
              "#f0f921"
             ]
            ],
            "type": "surface"
           }
          ],
          "table": [
           {
            "cells": {
             "fill": {
              "color": "#EBF0F8"
             },
             "line": {
              "color": "white"
             }
            },
            "header": {
             "fill": {
              "color": "#C8D4E3"
             },
             "line": {
              "color": "white"
             }
            },
            "type": "table"
           }
          ]
         },
         "layout": {
          "annotationdefaults": {
           "arrowcolor": "#2a3f5f",
           "arrowhead": 0,
           "arrowwidth": 1
          },
          "autotypenumbers": "strict",
          "coloraxis": {
           "colorbar": {
            "outlinewidth": 0,
            "ticks": ""
           }
          },
          "colorscale": {
           "diverging": [
            [
             0,
             "#8e0152"
            ],
            [
             0.1,
             "#c51b7d"
            ],
            [
             0.2,
             "#de77ae"
            ],
            [
             0.3,
             "#f1b6da"
            ],
            [
             0.4,
             "#fde0ef"
            ],
            [
             0.5,
             "#f7f7f7"
            ],
            [
             0.6,
             "#e6f5d0"
            ],
            [
             0.7,
             "#b8e186"
            ],
            [
             0.8,
             "#7fbc41"
            ],
            [
             0.9,
             "#4d9221"
            ],
            [
             1,
             "#276419"
            ]
           ],
           "sequential": [
            [
             0,
             "#0d0887"
            ],
            [
             0.1111111111111111,
             "#46039f"
            ],
            [
             0.2222222222222222,
             "#7201a8"
            ],
            [
             0.3333333333333333,
             "#9c179e"
            ],
            [
             0.4444444444444444,
             "#bd3786"
            ],
            [
             0.5555555555555556,
             "#d8576b"
            ],
            [
             0.6666666666666666,
             "#ed7953"
            ],
            [
             0.7777777777777778,
             "#fb9f3a"
            ],
            [
             0.8888888888888888,
             "#fdca26"
            ],
            [
             1,
             "#f0f921"
            ]
           ],
           "sequentialminus": [
            [
             0,
             "#0d0887"
            ],
            [
             0.1111111111111111,
             "#46039f"
            ],
            [
             0.2222222222222222,
             "#7201a8"
            ],
            [
             0.3333333333333333,
             "#9c179e"
            ],
            [
             0.4444444444444444,
             "#bd3786"
            ],
            [
             0.5555555555555556,
             "#d8576b"
            ],
            [
             0.6666666666666666,
             "#ed7953"
            ],
            [
             0.7777777777777778,
             "#fb9f3a"
            ],
            [
             0.8888888888888888,
             "#fdca26"
            ],
            [
             1,
             "#f0f921"
            ]
           ]
          },
          "colorway": [
           "#636efa",
           "#EF553B",
           "#00cc96",
           "#ab63fa",
           "#FFA15A",
           "#19d3f3",
           "#FF6692",
           "#B6E880",
           "#FF97FF",
           "#FECB52"
          ],
          "font": {
           "color": "#2a3f5f"
          },
          "geo": {
           "bgcolor": "white",
           "lakecolor": "white",
           "landcolor": "#E5ECF6",
           "showlakes": true,
           "showland": true,
           "subunitcolor": "white"
          },
          "hoverlabel": {
           "align": "left"
          },
          "hovermode": "closest",
          "mapbox": {
           "style": "light"
          },
          "paper_bgcolor": "white",
          "plot_bgcolor": "#E5ECF6",
          "polar": {
           "angularaxis": {
            "gridcolor": "white",
            "linecolor": "white",
            "ticks": ""
           },
           "bgcolor": "#E5ECF6",
           "radialaxis": {
            "gridcolor": "white",
            "linecolor": "white",
            "ticks": ""
           }
          },
          "scene": {
           "xaxis": {
            "backgroundcolor": "#E5ECF6",
            "gridcolor": "white",
            "gridwidth": 2,
            "linecolor": "white",
            "showbackground": true,
            "ticks": "",
            "zerolinecolor": "white"
           },
           "yaxis": {
            "backgroundcolor": "#E5ECF6",
            "gridcolor": "white",
            "gridwidth": 2,
            "linecolor": "white",
            "showbackground": true,
            "ticks": "",
            "zerolinecolor": "white"
           },
           "zaxis": {
            "backgroundcolor": "#E5ECF6",
            "gridcolor": "white",
            "gridwidth": 2,
            "linecolor": "white",
            "showbackground": true,
            "ticks": "",
            "zerolinecolor": "white"
           }
          },
          "shapedefaults": {
           "line": {
            "color": "#2a3f5f"
           }
          },
          "ternary": {
           "aaxis": {
            "gridcolor": "white",
            "linecolor": "white",
            "ticks": ""
           },
           "baxis": {
            "gridcolor": "white",
            "linecolor": "white",
            "ticks": ""
           },
           "bgcolor": "#E5ECF6",
           "caxis": {
            "gridcolor": "white",
            "linecolor": "white",
            "ticks": ""
           }
          },
          "title": {
           "x": 0.05
          },
          "xaxis": {
           "automargin": true,
           "gridcolor": "white",
           "linecolor": "white",
           "ticks": "",
           "title": {
            "standoff": 15
           },
           "zerolinecolor": "white",
           "zerolinewidth": 2
          },
          "yaxis": {
           "automargin": true,
           "gridcolor": "white",
           "linecolor": "white",
           "ticks": "",
           "title": {
            "standoff": 15
           },
           "zerolinecolor": "white",
           "zerolinewidth": 2
          }
         }
        }
       }
      }
     },
     "metadata": {},
     "output_type": "display_data"
    }
   ],
   "source": [
    "filepath = r\"c:\\Users\\Administrator\\Documents\\Senyal_sistemes\\465490__timidity__savarez-esaite.wav\" #r vol dir raw string\n",
    "ref, fs = load_audio(filepath)\n",
    "\n",
    "plot_signals(ref, fs,0.4, 0.4 + 5*T)"
   ]
  },
  {
   "cell_type": "markdown",
   "metadata": {
    "id": "Q9q9DSPkzkKi"
   },
   "source": [
    "3.2. Now, define a harmonic signal, `y` whose fundamental frequency is the defined in Lab 1. Go step by step adding a new harmonic in each step. Plot both signals (the reference and the synthesized) and try to reproduce the shape of the reference signal.\n",
    "\n",
    "**Note 1**: in order to have a similar shape, we need to select the amplitudes and phases carefully. One way to do this is to define the harmonic signal as follows:\n",
    "\n",
    "$$y(t) = \\sum_{k=1}^K A_k\\cos\\left(2\\pi kf_0 t + k \\phi - (k-1)\\pi/2 \\right), $$\n",
    "\n",
    "where $K$ is the number of harmonics, $f_0$ is the fundamental frequency, $A_k$ is the amplitude (weight) of each harmonic and $\\phi$ is the phase of the signal (defined in Lab1 Ex 2.4).\n",
    "\n",
    "**Note 2**:\n",
    "Define the $A_k$ values relative to the fundamental frequency. This means to define $A_1=1$ and the others less than 1. You can use Audacity to plot the spectrum of the fragment selected of the reference audio and measure the relative amplitudes of the harmonics.\n",
    "\n",
    "**Note 3**: Normalize the amplitude of the signal by the same amplitude of the reference. For instance, if the amplitude of the reference signal is 0.33, you can normalize the syntesized signal by first dividing by its maximum and then multiplyng by 0.33:\n",
    "\n",
    "```\n",
    "y = 0.33 * y / np.amax(y)\n",
    "```"
   ]
  },
  {
   "cell_type": "code",
   "execution_count": 88,
   "metadata": {
    "executionInfo": {
     "elapsed": 13,
     "status": "ok",
     "timestamp": 1702317971657,
     "user": {
      "displayName": "PEDRO RAMONEDA FRANCO",
      "userId": "10653804143244385715"
     },
     "user_tz": -60
    },
    "id": "-1LHtBuyZ9q6"
   },
   "outputs": [
    {
     "data": {
      "application/vnd.plotly.v1+json": {
       "config": {
        "linkText": "Export to plot.ly",
        "plotlyServerURL": "https://plot.ly",
        "showLink": false
       },
       "data": [
        {
         "line": {
          "color": "#1f77b4",
          "shape": "linear"
         },
         "mode": "lines",
         "name": "referenica",
         "type": "scatter",
         "x": {
          "bdata": "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",
          "dtype": "f8"
         },
         "y": {
          "bdata": "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",
          "dtype": "f8"
         }
        },
        {
         "line": {
          "color": "#ff7f0e",
          "shape": "linear"
         },
         "mode": "lines",
         "name": "sintetizat",
         "type": "scatter",
         "x": {
          "bdata": "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",
          "dtype": "f8"
         },
         "y": {
          "bdata": "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",
          "dtype": "f8"
         }
        }
       ],
       "layout": {
        "template": {
         "data": {
          "bar": [
           {
            "error_x": {
             "color": "#2a3f5f"
            },
            "error_y": {
             "color": "#2a3f5f"
            },
            "marker": {
             "line": {
              "color": "#E5ECF6",
              "width": 0.5
             },
             "pattern": {
              "fillmode": "overlay",
              "size": 10,
              "solidity": 0.2
             }
            },
            "type": "bar"
           }
          ],
          "barpolar": [
           {
            "marker": {
             "line": {
              "color": "#E5ECF6",
              "width": 0.5
             },
             "pattern": {
              "fillmode": "overlay",
              "size": 10,
              "solidity": 0.2
             }
            },
            "type": "barpolar"
           }
          ],
          "carpet": [
           {
            "aaxis": {
             "endlinecolor": "#2a3f5f",
             "gridcolor": "white",
             "linecolor": "white",
             "minorgridcolor": "white",
             "startlinecolor": "#2a3f5f"
            },
            "baxis": {
             "endlinecolor": "#2a3f5f",
             "gridcolor": "white",
             "linecolor": "white",
             "minorgridcolor": "white",
             "startlinecolor": "#2a3f5f"
            },
            "type": "carpet"
           }
          ],
          "choropleth": [
           {
            "colorbar": {
             "outlinewidth": 0,
             "ticks": ""
            },
            "type": "choropleth"
           }
          ],
          "contour": [
           {
            "colorbar": {
             "outlinewidth": 0,
             "ticks": ""
            },
            "colorscale": [
             [
              0,
              "#0d0887"
             ],
             [
              0.1111111111111111,
              "#46039f"
             ],
             [
              0.2222222222222222,
              "#7201a8"
             ],
             [
              0.3333333333333333,
              "#9c179e"
             ],
             [
              0.4444444444444444,
              "#bd3786"
             ],
             [
              0.5555555555555556,
              "#d8576b"
             ],
             [
              0.6666666666666666,
              "#ed7953"
             ],
             [
              0.7777777777777778,
              "#fb9f3a"
             ],
             [
              0.8888888888888888,
              "#fdca26"
             ],
             [
              1,
              "#f0f921"
             ]
            ],
            "type": "contour"
           }
          ],
          "contourcarpet": [
           {
            "colorbar": {
             "outlinewidth": 0,
             "ticks": ""
            },
            "type": "contourcarpet"
           }
          ],
          "heatmap": [
           {
            "colorbar": {
             "outlinewidth": 0,
             "ticks": ""
            },
            "colorscale": [
             [
              0,
              "#0d0887"
             ],
             [
              0.1111111111111111,
              "#46039f"
             ],
             [
              0.2222222222222222,
              "#7201a8"
             ],
             [
              0.3333333333333333,
              "#9c179e"
             ],
             [
              0.4444444444444444,
              "#bd3786"
             ],
             [
              0.5555555555555556,
              "#d8576b"
             ],
             [
              0.6666666666666666,
              "#ed7953"
             ],
             [
              0.7777777777777778,
              "#fb9f3a"
             ],
             [
              0.8888888888888888,
              "#fdca26"
             ],
             [
              1,
              "#f0f921"
             ]
            ],
            "type": "heatmap"
           }
          ],
          "histogram": [
           {
            "marker": {
             "pattern": {
              "fillmode": "overlay",
              "size": 10,
              "solidity": 0.2
             }
            },
            "type": "histogram"
           }
          ],
          "histogram2d": [
           {
            "colorbar": {
             "outlinewidth": 0,
             "ticks": ""
            },
            "colorscale": [
             [
              0,
              "#0d0887"
             ],
             [
              0.1111111111111111,
              "#46039f"
             ],
             [
              0.2222222222222222,
              "#7201a8"
             ],
             [
              0.3333333333333333,
              "#9c179e"
             ],
             [
              0.4444444444444444,
              "#bd3786"
             ],
             [
              0.5555555555555556,
              "#d8576b"
             ],
             [
              0.6666666666666666,
              "#ed7953"
             ],
             [
              0.7777777777777778,
              "#fb9f3a"
             ],
             [
              0.8888888888888888,
              "#fdca26"
             ],
             [
              1,
              "#f0f921"
             ]
            ],
            "type": "histogram2d"
           }
          ],
          "histogram2dcontour": [
           {
            "colorbar": {
             "outlinewidth": 0,
             "ticks": ""
            },
            "colorscale": [
             [
              0,
              "#0d0887"
             ],
             [
              0.1111111111111111,
              "#46039f"
             ],
             [
              0.2222222222222222,
              "#7201a8"
             ],
             [
              0.3333333333333333,
              "#9c179e"
             ],
             [
              0.4444444444444444,
              "#bd3786"
             ],
             [
              0.5555555555555556,
              "#d8576b"
             ],
             [
              0.6666666666666666,
              "#ed7953"
             ],
             [
              0.7777777777777778,
              "#fb9f3a"
             ],
             [
              0.8888888888888888,
              "#fdca26"
             ],
             [
              1,
              "#f0f921"
             ]
            ],
            "type": "histogram2dcontour"
           }
          ],
          "mesh3d": [
           {
            "colorbar": {
             "outlinewidth": 0,
             "ticks": ""
            },
            "type": "mesh3d"
           }
          ],
          "parcoords": [
           {
            "line": {
             "colorbar": {
              "outlinewidth": 0,
              "ticks": ""
             }
            },
            "type": "parcoords"
           }
          ],
          "pie": [
           {
            "automargin": true,
            "type": "pie"
           }
          ],
          "scatter": [
           {
            "fillpattern": {
             "fillmode": "overlay",
             "size": 10,
             "solidity": 0.2
            },
            "type": "scatter"
           }
          ],
          "scatter3d": [
           {
            "line": {
             "colorbar": {
              "outlinewidth": 0,
              "ticks": ""
             }
            },
            "marker": {
             "colorbar": {
              "outlinewidth": 0,
              "ticks": ""
             }
            },
            "type": "scatter3d"
           }
          ],
          "scattercarpet": [
           {
            "marker": {
             "colorbar": {
              "outlinewidth": 0,
              "ticks": ""
             }
            },
            "type": "scattercarpet"
           }
          ],
          "scattergeo": [
           {
            "marker": {
             "colorbar": {
              "outlinewidth": 0,
              "ticks": ""
             }
            },
            "type": "scattergeo"
           }
          ],
          "scattergl": [
           {
            "marker": {
             "colorbar": {
              "outlinewidth": 0,
              "ticks": ""
             }
            },
            "type": "scattergl"
           }
          ],
          "scattermap": [
           {
            "marker": {
             "colorbar": {
              "outlinewidth": 0,
              "ticks": ""
             }
            },
            "type": "scattermap"
           }
          ],
          "scattermapbox": [
           {
            "marker": {
             "colorbar": {
              "outlinewidth": 0,
              "ticks": ""
             }
            },
            "type": "scattermapbox"
           }
          ],
          "scatterpolar": [
           {
            "marker": {
             "colorbar": {
              "outlinewidth": 0,
              "ticks": ""
             }
            },
            "type": "scatterpolar"
           }
          ],
          "scatterpolargl": [
           {
            "marker": {
             "colorbar": {
              "outlinewidth": 0,
              "ticks": ""
             }
            },
            "type": "scatterpolargl"
           }
          ],
          "scatterternary": [
           {
            "marker": {
             "colorbar": {
              "outlinewidth": 0,
              "ticks": ""
             }
            },
            "type": "scatterternary"
           }
          ],
          "surface": [
           {
            "colorbar": {
             "outlinewidth": 0,
             "ticks": ""
            },
            "colorscale": [
             [
              0,
              "#0d0887"
             ],
             [
              0.1111111111111111,
              "#46039f"
             ],
             [
              0.2222222222222222,
              "#7201a8"
             ],
             [
              0.3333333333333333,
              "#9c179e"
             ],
             [
              0.4444444444444444,
              "#bd3786"
             ],
             [
              0.5555555555555556,
              "#d8576b"
             ],
             [
              0.6666666666666666,
              "#ed7953"
             ],
             [
              0.7777777777777778,
              "#fb9f3a"
             ],
             [
              0.8888888888888888,
              "#fdca26"
             ],
             [
              1,
              "#f0f921"
             ]
            ],
            "type": "surface"
           }
          ],
          "table": [
           {
            "cells": {
             "fill": {
              "color": "#EBF0F8"
             },
             "line": {
              "color": "white"
             }
            },
            "header": {
             "fill": {
              "color": "#C8D4E3"
             },
             "line": {
              "color": "white"
             }
            },
            "type": "table"
           }
          ]
         },
         "layout": {
          "annotationdefaults": {
           "arrowcolor": "#2a3f5f",
           "arrowhead": 0,
           "arrowwidth": 1
          },
          "autotypenumbers": "strict",
          "coloraxis": {
           "colorbar": {
            "outlinewidth": 0,
            "ticks": ""
           }
          },
          "colorscale": {
           "diverging": [
            [
             0,
             "#8e0152"
            ],
            [
             0.1,
             "#c51b7d"
            ],
            [
             0.2,
             "#de77ae"
            ],
            [
             0.3,
             "#f1b6da"
            ],
            [
             0.4,
             "#fde0ef"
            ],
            [
             0.5,
             "#f7f7f7"
            ],
            [
             0.6,
             "#e6f5d0"
            ],
            [
             0.7,
             "#b8e186"
            ],
            [
             0.8,
             "#7fbc41"
            ],
            [
             0.9,
             "#4d9221"
            ],
            [
             1,
             "#276419"
            ]
           ],
           "sequential": [
            [
             0,
             "#0d0887"
            ],
            [
             0.1111111111111111,
             "#46039f"
            ],
            [
             0.2222222222222222,
             "#7201a8"
            ],
            [
             0.3333333333333333,
             "#9c179e"
            ],
            [
             0.4444444444444444,
             "#bd3786"
            ],
            [
             0.5555555555555556,
             "#d8576b"
            ],
            [
             0.6666666666666666,
             "#ed7953"
            ],
            [
             0.7777777777777778,
             "#fb9f3a"
            ],
            [
             0.8888888888888888,
             "#fdca26"
            ],
            [
             1,
             "#f0f921"
            ]
           ],
           "sequentialminus": [
            [
             0,
             "#0d0887"
            ],
            [
             0.1111111111111111,
             "#46039f"
            ],
            [
             0.2222222222222222,
             "#7201a8"
            ],
            [
             0.3333333333333333,
             "#9c179e"
            ],
            [
             0.4444444444444444,
             "#bd3786"
            ],
            [
             0.5555555555555556,
             "#d8576b"
            ],
            [
             0.6666666666666666,
             "#ed7953"
            ],
            [
             0.7777777777777778,
             "#fb9f3a"
            ],
            [
             0.8888888888888888,
             "#fdca26"
            ],
            [
             1,
             "#f0f921"
            ]
           ]
          },
          "colorway": [
           "#636efa",
           "#EF553B",
           "#00cc96",
           "#ab63fa",
           "#FFA15A",
           "#19d3f3",
           "#FF6692",
           "#B6E880",
           "#FF97FF",
           "#FECB52"
          ],
          "font": {
           "color": "#2a3f5f"
          },
          "geo": {
           "bgcolor": "white",
           "lakecolor": "white",
           "landcolor": "#E5ECF6",
           "showlakes": true,
           "showland": true,
           "subunitcolor": "white"
          },
          "hoverlabel": {
           "align": "left"
          },
          "hovermode": "closest",
          "mapbox": {
           "style": "light"
          },
          "paper_bgcolor": "white",
          "plot_bgcolor": "#E5ECF6",
          "polar": {
           "angularaxis": {
            "gridcolor": "white",
            "linecolor": "white",
            "ticks": ""
           },
           "bgcolor": "#E5ECF6",
           "radialaxis": {
            "gridcolor": "white",
            "linecolor": "white",
            "ticks": ""
           }
          },
          "scene": {
           "xaxis": {
            "backgroundcolor": "#E5ECF6",
            "gridcolor": "white",
            "gridwidth": 2,
            "linecolor": "white",
            "showbackground": true,
            "ticks": "",
            "zerolinecolor": "white"
           },
           "yaxis": {
            "backgroundcolor": "#E5ECF6",
            "gridcolor": "white",
            "gridwidth": 2,
            "linecolor": "white",
            "showbackground": true,
            "ticks": "",
            "zerolinecolor": "white"
           },
           "zaxis": {
            "backgroundcolor": "#E5ECF6",
            "gridcolor": "white",
            "gridwidth": 2,
            "linecolor": "white",
            "showbackground": true,
            "ticks": "",
            "zerolinecolor": "white"
           }
          },
          "shapedefaults": {
           "line": {
            "color": "#2a3f5f"
           }
          },
          "ternary": {
           "aaxis": {
            "gridcolor": "white",
            "linecolor": "white",
            "ticks": ""
           },
           "baxis": {
            "gridcolor": "white",
            "linecolor": "white",
            "ticks": ""
           },
           "bgcolor": "#E5ECF6",
           "caxis": {
            "gridcolor": "white",
            "linecolor": "white",
            "ticks": ""
           }
          },
          "title": {
           "x": 0.05
          },
          "xaxis": {
           "automargin": true,
           "gridcolor": "white",
           "linecolor": "white",
           "ticks": "",
           "title": {
            "standoff": 15
           },
           "zerolinecolor": "white",
           "zerolinewidth": 2
          },
          "yaxis": {
           "automargin": true,
           "gridcolor": "white",
           "linecolor": "white",
           "ticks": "",
           "title": {
            "standoff": 15
           },
           "zerolinecolor": "white",
           "zerolinewidth": 2
          }
         }
        }
       }
      }
     },
     "metadata": {},
     "output_type": "display_data"
    }
   ],
   "source": [
    "f0 = 82\n",
    "T = 1/f0\n",
    "\n",
    "t = np.arange(0, 0.4 + 5*T, 1/fs)\n",
    "\n",
    "K = 3\n",
    "A = [0.6, 0.56, 0.32]   \n",
    "y = np.zeros_like(t)\n",
    "\n",
    "for k in range(1, K+1):\n",
    "    y += A[k-1] * np.cos(2*np.pi*k*f0*(t-0.0024) + k*phi - (k-1)*np.pi/2)\n",
    "\n",
    "t0, t1 = 0.4, 0.4 + 5*(1/f0)\n",
    "i0, i1 = int(t0*fs), int(t1*fs)\n",
    "amp_ref = np.max(np.abs(ref[i0:i1]))\n",
    "y = amp_ref * y / np.max(np.abs(y))\n",
    "\n",
    "plot_signals([ref, y], fs, 0.4, 0.4 + 5*T, name=['referenica', 'sintetizat'], mode='lines')\n"
   ]
  },
  {
   "cell_type": "markdown",
   "metadata": {
    "id": "FFOPYFkn3fmh"
   },
   "source": [
    "3.3. Listen to the synthtesis and remark what are the main differences between the reference and synthesis."
   ]
  },
  {
   "cell_type": "code",
   "execution_count": 89,
   "metadata": {
    "colab": {
     "base_uri": "https://localhost:8080/",
     "height": 176
    },
    "executionInfo": {
     "elapsed": 13,
     "status": "error",
     "timestamp": 1702317971657,
     "user": {
      "displayName": "PEDRO RAMONEDA FRANCO",
      "userId": "10653804143244385715"
     },
     "user_tz": -60
    },
    "id": "Jztm9rOd3etP",
    "outputId": "97312be1-7d6a-4034-e147-9fcac5de1e7c"
   },
   "outputs": [],
   "source": [
    "import soundfile as sf\n",
    "sf.write('synthetized.wav', y, fs)\n"
   ]
  },
  {
   "cell_type": "markdown",
   "metadata": {
    "id": "2S9SR2Ev3lZn"
   },
   "source": [
    "Es nota que tenen la mateixa f0. El sintetitzat es mes simple i no te decaïment."
   ]
  }
 ],
 "metadata": {
  "colab": {
   "provenance": []
  },
  "kernelspec": {
   "display_name": ".venv",
   "language": "python",
   "name": "python3"
  },
  "language_info": {
   "codemirror_mode": {
    "name": "ipython",
    "version": 3
   },
   "file_extension": ".py",
   "mimetype": "text/x-python",
   "name": "python",
   "nbconvert_exporter": "python",
   "pygments_lexer": "ipython3",
   "version": "3.11.0"
  }
 },
 "nbformat": 4,
 "nbformat_minor": 0
}
